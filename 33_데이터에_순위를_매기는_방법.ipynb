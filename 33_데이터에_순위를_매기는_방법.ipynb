{
  "nbformat": 4,
  "nbformat_minor": 0,
  "metadata": {
    "colab": {
      "provenance": [],
      "collapsed_sections": [],
      "authorship_tag": "ABX9TyMRJsomGVVjLRFInm7V0GCZ",
      "include_colab_link": true
    },
    "kernelspec": {
      "name": "python3",
      "display_name": "Python 3"
    },
    "language_info": {
      "name": "python"
    }
  },
  "cells": [
    {
      "cell_type": "markdown",
      "metadata": {
        "id": "view-in-github",
        "colab_type": "text"
      },
      "source": [
        "<a href=\"https://colab.research.google.com/github/com0040/README_example_Source/blob/main/33_%EB%8D%B0%EC%9D%B4%ED%84%B0%EC%97%90_%EC%88%9C%EC%9C%84%EB%A5%BC_%EB%A7%A4%EA%B8%B0%EB%8A%94_%EB%B0%A9%EB%B2%95.ipynb\" target=\"_parent\"><img src=\"https://colab.research.google.com/assets/colab-badge.svg\" alt=\"Open In Colab\"/></a>"
      ]
    },
    {
      "cell_type": "code",
      "execution_count": null,
      "metadata": {
        "id": "FtJwvyVNE9EU"
      },
      "outputs": [],
      "source": [
        "import pandas as pd \n",
        "\n",
        "df = pd.read_csv('성적처리.xlsx',sheet_name='Sheet1')"
      ]
    },
    {
      "cell_type": "code",
      "source": [
        "df.grupby('반').mean()"
      ],
      "metadata": {
        "id": "YacM5EgDHMZA"
      },
      "execution_count": null,
      "outputs": []
    },
    {
      "cell_type": "code",
      "source": [
        "df['총합']=df[\"국어\"]+df['수학']+df['사회']+df['과학']\n",
        "df"
      ],
      "metadata": {
        "id": "sd209VTXHqDG"
      },
      "execution_count": null,
      "outputs": []
    },
    {
      "cell_type": "code",
      "source": [
        "df = pd.read_csv('성적처리.xlsx',sheet_name='Sheet1')\n",
        "df"
      ],
      "metadata": {
        "id": "veVYlEA_Idij"
      },
      "execution_count": null,
      "outputs": []
    },
    {
      "cell_type": "code",
      "source": [
        "df.iloc[:,2:].sum(axis=1) # 모든 행, 0,1 열 제외하고 나머지 열을 열방향으로 모두 더해라 = 총합\n",
        "df.iloc[:,2:].sum(axis=0) # 모든 행, 0,1 열 제외하고 나머지 열을 행방향으로 모두 더해라 = 과목총합"
      ],
      "metadata": {
        "id": "QRPyCqRkITQR"
      },
      "execution_count": null,
      "outputs": []
    },
    {
      "cell_type": "code",
      "source": [
        "df['총합합'] =df.iloc[:,2:].sum(axis=1) # 모든 행, 0,1 열 제외하고 나머지 열을 열방향으로 모두 더해라 = 총합\n",
        "df"
      ],
      "metadata": {
        "id": "GlBIKQrOJ_we"
      },
      "execution_count": null,
      "outputs": []
    },
    {
      "cell_type": "code",
      "source": [
        "df['평균'] = df['총합']/5\n",
        "df"
      ],
      "metadata": {
        "id": "NTHHjd31KQg0"
      },
      "execution_count": null,
      "outputs": []
    },
    {
      "cell_type": "code",
      "source": [
        "df['순위'] = df['평균'].rank(mathod='average') # 점수가 높을 수록 큰 순위를 준다 / 같은 등수는 평균으로 한다 3.5등\n",
        "df"
      ],
      "metadata": {
        "id": "s8qFWkgWK12t"
      },
      "execution_count": null,
      "outputs": []
    },
    {
      "cell_type": "code",
      "source": [
        "df['순위'] = df['평균'].rank(mathod='average', asending=False) # 점수가 높으면 낮은 순위\n",
        "df"
      ],
      "metadata": {
        "id": "L2N6psJ3LWls"
      },
      "execution_count": null,
      "outputs": []
    },
    {
      "cell_type": "code",
      "source": [
        "df['순위'] = df['평균'].rank(mathod='min', asending=False) # 점수가 높으면 낮은 순위 / 둘다3등 -> 5등\n",
        "df"
      ],
      "metadata": {
        "id": "JH8huplpLtu7"
      },
      "execution_count": null,
      "outputs": []
    },
    {
      "cell_type": "code",
      "source": [
        "df['순위'] = df['평균'].rank(mathod='max', asending=False) # 점수가 높으면 낮은 순위 / 둘다 4등 -> 3등\n",
        "df"
      ],
      "metadata": {
        "id": "CgoinJhmMRoO"
      },
      "execution_count": null,
      "outputs": []
    },
    {
      "cell_type": "code",
      "source": [
        "df['순위'] = df['평균'].rank(mathod='first', asending=False) # 점수가 높으면 낮은 순위 / 먼저 3 나중 4 -> 5등등\n",
        "df"
      ],
      "metadata": {
        "id": "eblocM_RMXu_"
      },
      "execution_count": null,
      "outputs": []
    },
    {
      "cell_type": "code",
      "source": [
        "df['순위'] = df['평균'].rank(mathod='dense', asending=False) # 점수가 높으면 낮은 순위 / 3등 2명 -> 4등\n",
        "df"
      ],
      "metadata": {
        "id": "Ksr-II_dMemG"
      },
      "execution_count": null,
      "outputs": []
    }
  ]
}