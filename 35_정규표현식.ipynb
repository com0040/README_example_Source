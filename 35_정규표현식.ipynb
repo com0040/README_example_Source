{
  "nbformat": 4,
  "nbformat_minor": 0,
  "metadata": {
    "colab": {
      "provenance": [],
      "authorship_tag": "ABX9TyMa2ydMoufjUh6ubRPE8H5Z",
      "include_colab_link": true
    },
    "kernelspec": {
      "name": "python3",
      "display_name": "Python 3"
    },
    "language_info": {
      "name": "python"
    }
  },
  "cells": [
    {
      "cell_type": "markdown",
      "metadata": {
        "id": "view-in-github",
        "colab_type": "text"
      },
      "source": [
        "<a href=\"https://colab.research.google.com/github/com0040/README_example_Source/blob/main/35_%EC%A0%95%EA%B7%9C%ED%91%9C%ED%98%84%EC%8B%9D.ipynb\" target=\"_parent\"><img src=\"https://colab.research.google.com/assets/colab-badge.svg\" alt=\"Open In Colab\"/></a>"
      ]
    },
    {
      "cell_type": "code",
      "execution_count": null,
      "metadata": {
        "id": "AtjEiwI8TpyG"
      },
      "outputs": [],
      "source": [
        "import re\n",
        "\n",
        "f =open(\"코로나.txt\",'rt')\n",
        "covid=f.read()\n",
        "f.colse()\n",
        "\n",
        "print(covid)"
      ]
    },
    {
      "cell_type": "code",
      "source": [
        "re.findall('[가-힣]+',covid) # 한글 찾겠다/+한개이상 즉 단어별로로 / {2} 2글자로 이루어진 단어만\n",
        "# {2,} 2개이상으로 이루어진 단어"
      ],
      "metadata": {
        "id": "DbFZvozgaoST"
      },
      "execution_count": null,
      "outputs": []
    },
    {
      "cell_type": "code",
      "source": [
        "re.findall('[a-zA-Z0-9]',covid) # 영어 찾겠다"
      ],
      "metadata": {
        "id": "8DEbFOBTa9mx"
      },
      "execution_count": null,
      "outputs": []
    },
    {
      "cell_type": "code",
      "source": [
        "re.findall('[\\d]+',covid) # 숫자 찾겠다"
      ],
      "metadata": {
        "id": "bZvpM6Eq5YIf"
      },
      "execution_count": null,
      "outputs": []
    },
    {
      "cell_type": "code",
      "source": [
        "re.findall('[\\D]+',covid) # 숫자아닌 것 찾겠다"
      ],
      "metadata": {
        "id": "ivqmo6hc5x31"
      },
      "execution_count": null,
      "outputs": []
    },
    {
      "cell_type": "code",
      "source": [
        "re.findall('[\\D]+',covid) # 숫자아닌 것 찾겠다"
      ],
      "metadata": {
        "id": "PxUqLjqW56e2"
      },
      "execution_count": null,
      "outputs": []
    },
    {
      "cell_type": "code",
      "source": [
        "re.findall('\\w+19',covid) # 19로 끝나는 문자 + 숫자 찾겠다 "
      ],
      "metadata": {
        "id": "WO9oj6oZ6LNS"
      },
      "execution_count": null,
      "outputs": []
    },
    {
      "cell_type": "code",
      "source": [
        "re.findall('코\\w+19',covid) # '코'로 시작 '19'로 끝나는 문자 + 숫자 찾겠다 "
      ],
      "metadata": {
        "id": "KLeEj2BO6LAB"
      },
      "execution_count": null,
      "outputs": []
    },
    {
      "cell_type": "code",
      "source": [],
      "metadata": {
        "id": "vGBMtDn96psM"
      },
      "execution_count": null,
      "outputs": []
    }
  ]
}