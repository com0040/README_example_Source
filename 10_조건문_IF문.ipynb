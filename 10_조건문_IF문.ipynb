{
  "nbformat": 4,
  "nbformat_minor": 0,
  "metadata": {
    "colab": {
      "provenance": [],
      "collapsed_sections": [],
      "authorship_tag": "ABX9TyMjTrYLxQAXUYgSCrZRlvpd",
      "include_colab_link": true
    },
    "kernelspec": {
      "name": "python3",
      "display_name": "Python 3"
    },
    "language_info": {
      "name": "python"
    }
  },
  "cells": [
    {
      "cell_type": "markdown",
      "metadata": {
        "id": "view-in-github",
        "colab_type": "text"
      },
      "source": [
        "<a href=\"https://colab.research.google.com/github/com0040/python-and-data-anlysis-basic/blob/main/10_%EC%A1%B0%EA%B1%B4%EB%AC%B8_IF%EB%AC%B8.ipynb\" target=\"_parent\"><img src=\"https://colab.research.google.com/assets/colab-badge.svg\" alt=\"Open In Colab\"/></a>"
      ]
    },
    {
      "cell_type": "markdown",
      "source": [
        "조건을 판단하여 조건에 맞는 상황을 수행."
      ],
      "metadata": {
        "id": "xrXu6aGhvvc4"
      }
    },
    {
      "cell_type": "markdown",
      "source": [
        "* 조건 IF문\n",
        "```\n",
        "if 조건문:\n",
        "    수행할 문장 1\n",
        "    수행할 문장 2\n",
        "```\n",
        "```\n",
        "if 조건문:\n",
        "    수행할 문장 1\n",
        "    수행할 문장 2\n",
        "else:\n",
        "    수행할 문장 A\n",
        "    수행할 문장 B\n",
        "```\n"
      ],
      "metadata": {
        "id": "xWHxGAxcv0mT"
      }
    },
    {
      "cell_type": "markdown",
      "source": [
        "* 비교 연산자\n",
        "---\n",
        "|    비교연산자    |     설명   |\n",
        "|       ---      |      ---  |\n",
        "|    x > y | x가 y보다 작다|\n",
        "| x < y | x가 y보다 크다|\n",
        "| x == y | x와 y가 같다|\n",
        "| x != y | x와 y가 같지 않다|\n",
        "| x >= y | x가 y보다 크거나 같다|\n",
        "| x <= y | x가 y보다 작거나 같다|"
      ],
      "metadata": {
        "id": "2elaiGBrwUs6"
      }
    },
    {
      "cell_type": "markdown",
      "source": [
        "* 논리 연산자\n",
        "\n",
        "|연산자|설명|\n",
        "|---|---|\n",
        "|x or y|x와 y 둘중에 하나만 참이어도 참이다|\n",
        "|x and y|x와 y 모두 참이어야 참이다|\n",
        "|not x|x가 거짓이면 참이다|\n",
        "\n",
        "\n"
      ],
      "metadata": {
        "id": "IHpoVVo_0ENR"
      }
    },
    {
      "cell_type": "markdown",
      "source": [
        "* 멤버 연산자\n",
        "\n",
        "| in | not in |\n",
        "|---|---|\n",
        "|x in 리스트| x not in 리스트|\n",
        "|x in 튜플| x not in 튜플|\n",
        "|x in 문자열| x not in 문자열|"
      ],
      "metadata": {
        "id": "M72_UOz10hAc"
      }
    },
    {
      "cell_type": "markdown",
      "source": [
        "* elif문\n",
        "```\n",
        "if 조건문 1:\n",
        "    수행할 문장 1\n",
        "elif 조건문 2:\n",
        "    수행할 문장 2\n",
        "else:\n",
        "    수행할 문장 3\n",
        "```\n",
        "\n"
      ],
      "metadata": {
        "id": "bLkza07f02vk"
      }
    },
    {
      "cell_type": "markdown",
      "source": [
        "* 조건부 표현식."
      ],
      "metadata": {
        "id": "y5G6DzlT1HgE"
      }
    },
    {
      "cell_type": "code",
      "execution_count": 3,
      "metadata": {
        "colab": {
          "base_uri": "https://localhost:8080/",
          "height": 35
        },
        "id": "tkAu03zTuePc",
        "outputId": "cebb6dd2-7215-434a-9d72-913021d03cb8"
      },
      "outputs": [
        {
          "output_type": "execute_result",
          "data": {
            "text/plain": [
              "'success'"
            ],
            "application/vnd.google.colaboratory.intrinsic+json": {
              "type": "string"
            }
          },
          "metadata": {},
          "execution_count": 3
        }
      ],
      "source": [
        "score = 70\n",
        "message = 'success' if score >= 70 else 'failure'\n",
        "message"
      ]
    },
    {
      "cell_type": "markdown",
      "source": [
        "▶ 퀴즈."
      ],
      "metadata": {
        "id": "6gJVEA4k1l80"
      }
    },
    {
      "cell_type": "code",
      "source": [
        "'''\n",
        "변수 score 값이 90점 이상이면 'A', 80점 이상이면 'B', 70점 이상이면 'C', 60점 이상이면 'D', \n",
        "그 이하 나머지는  'F'를 출력하는 코드를 작성해보세요 \n",
        "'''\n",
        "score = 60\n",
        "\n",
        "if score >= 90:\n",
        "    print('A')\n",
        "elif score >= 80:\n",
        "    print('B')\n",
        "elif score >= 70:\n",
        "    print('C')\n",
        "elif score >= 60:\n",
        "    print('D')\n",
        "else:\n",
        "    print('F')\n"
      ],
      "metadata": {
        "id": "-iDuBfj71V4R"
      },
      "execution_count": null,
      "outputs": []
    }
  ]
}