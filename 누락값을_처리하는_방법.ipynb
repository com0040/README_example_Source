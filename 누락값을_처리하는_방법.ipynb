{
  "nbformat": 4,
  "nbformat_minor": 0,
  "metadata": {
    "colab": {
      "provenance": [],
      "collapsed_sections": [],
      "authorship_tag": "ABX9TyP95meTn69OPjhfEAmpgqtP",
      "include_colab_link": true
    },
    "kernelspec": {
      "name": "python3",
      "display_name": "Python 3"
    },
    "language_info": {
      "name": "python"
    }
  },
  "cells": [
    {
      "cell_type": "markdown",
      "metadata": {
        "id": "view-in-github",
        "colab_type": "text"
      },
      "source": [
        "<a href=\"https://colab.research.google.com/github/com0040/README_example_Source/blob/main/%EB%88%84%EB%9D%BD%EA%B0%92%EC%9D%84_%EC%B2%98%EB%A6%AC%ED%95%98%EB%8A%94_%EB%B0%A9%EB%B2%95.ipynb\" target=\"_parent\"><img src=\"https://colab.research.google.com/assets/colab-badge.svg\" alt=\"Open In Colab\"/></a>"
      ]
    },
    {
      "cell_type": "code",
      "execution_count": 3,
      "metadata": {
        "id": "HPgF2y3SkmEJ"
      },
      "outputs": [],
      "source": [
        "import pandas as pd"
      ]
    },
    {
      "cell_type": "code",
      "source": [
        "# 에볼라 데이터셋셋\n",
        "ebola = pd.read_csv('contry_timeseries.csv')\n",
        "ebola"
      ],
      "metadata": {
        "id": "vlLLRlEPnaOR"
      },
      "execution_count": null,
      "outputs": []
    },
    {
      "cell_type": "code",
      "source": [
        "ebola.info()"
      ],
      "metadata": {
        "id": "BADK2eDilDqS"
      },
      "execution_count": null,
      "outputs": []
    },
    {
      "cell_type": "code",
      "source": [
        "122 - ebola.count() # 누락값값"
      ],
      "metadata": {
        "id": "quAw_6ZllN3k"
      },
      "execution_count": null,
      "outputs": []
    },
    {
      "cell_type": "code",
      "source": [
        "ebola.fillna(5)"
      ],
      "metadata": {
        "id": "2kLGBqQblbRF"
      },
      "execution_count": null,
      "outputs": []
    },
    {
      "cell_type": "code",
      "source": [
        "ebola.mean()"
      ],
      "metadata": {
        "id": "NczUAiy_liNO"
      },
      "execution_count": null,
      "outputs": []
    },
    {
      "cell_type": "code",
      "source": [
        "ebola.fillna(evola.mean())"
      ],
      "metadata": {
        "id": "xqcDqWatlr-c"
      },
      "execution_count": null,
      "outputs": []
    },
    {
      "cell_type": "code",
      "source": [
        "ebola.fillna(mathod = 'ffill')"
      ],
      "metadata": {
        "id": "RzmUcc_Hlyjo"
      },
      "execution_count": null,
      "outputs": []
    },
    {
      "cell_type": "code",
      "source": [
        "ebola.fillna(mathod = 'bfill')"
      ],
      "metadata": {
        "id": "UXw18oxdmNnw"
      },
      "execution_count": null,
      "outputs": []
    },
    {
      "cell_type": "code",
      "source": [
        "# 흐름에 따라 누락값을 채우는 함수수\n",
        "ebola.interpolate()"
      ],
      "metadata": {
        "id": "amRcIaM8mQMc"
      },
      "execution_count": null,
      "outputs": []
    },
    {
      "cell_type": "code",
      "source": [
        "ebola2 = ebola.interpolate()\n",
        "ebola2.fillna(mathod = 'ffill')\n",
        "ebola2.fillna(mathod = 'bfill')"
      ],
      "metadata": {
        "id": "LOnkqjODmdmq"
      },
      "execution_count": null,
      "outputs": []
    },
    {
      "cell_type": "code",
      "source": [
        "from numpy import nan\n",
        "dates =['12/1/2016','12/3/2016', '12/4/2016','12/10/2016'] \n",
        "dates = pd.to_datetime(dates)\n",
        "\n",
        "s = pd.Series([1,nan,nan,10],index = dates)\n",
        "s"
      ],
      "metadata": {
        "colab": {
          "base_uri": "https://localhost:8080/"
        },
        "id": "nZXY3MMGmox2",
        "outputId": "caf64510-8ac9-4c6e-fb8b-9c6b801fe0d3"
      },
      "execution_count": 10,
      "outputs": [
        {
          "output_type": "execute_result",
          "data": {
            "text/plain": [
              "2016-12-01     1.0\n",
              "2016-12-03     NaN\n",
              "2016-12-04     NaN\n",
              "2016-12-10    10.0\n",
              "dtype: float64"
            ]
          },
          "metadata": {},
          "execution_count": 10
        }
      ]
    },
    {
      "cell_type": "code",
      "source": [
        "s.interpolate(method = 'time')"
      ],
      "metadata": {
        "colab": {
          "base_uri": "https://localhost:8080/"
        },
        "id": "hOvC5j4XnHkM",
        "outputId": "40af49fb-addb-4fba-bbc0-1c69493661d7"
      },
      "execution_count": 14,
      "outputs": [
        {
          "output_type": "execute_result",
          "data": {
            "text/plain": [
              "2016-12-01     1.0\n",
              "2016-12-03     3.0\n",
              "2016-12-04     4.0\n",
              "2016-12-10    10.0\n",
              "dtype: float64"
            ]
          },
          "metadata": {},
          "execution_count": 14
        }
      ]
    },
    {
      "cell_type": "code",
      "source": [],
      "metadata": {
        "id": "2nlTp8G6oJ5a"
      },
      "execution_count": null,
      "outputs": []
    }
  ]
}