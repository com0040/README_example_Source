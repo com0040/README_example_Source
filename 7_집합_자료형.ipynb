{
  "nbformat": 4,
  "nbformat_minor": 0,
  "metadata": {
    "colab": {
      "provenance": [],
      "authorship_tag": "ABX9TyOZhLBZPWvhP8kECLwA7LAd",
      "include_colab_link": true
    },
    "kernelspec": {
      "name": "python3",
      "display_name": "Python 3"
    },
    "language_info": {
      "name": "python"
    }
  },
  "cells": [
    {
      "cell_type": "markdown",
      "metadata": {
        "id": "view-in-github",
        "colab_type": "text"
      },
      "source": [
        "<a href=\"https://colab.research.google.com/github/com0040/python-and-data-anlysis-basic/blob/main/7_%EC%A7%91%ED%95%A9_%EC%9E%90%EB%A3%8C%ED%98%95.ipynb\" target=\"_parent\"><img src=\"https://colab.research.google.com/assets/colab-badge.svg\" alt=\"Open In Colab\"/></a>"
      ]
    },
    {
      "cell_type": "markdown",
      "source": [
        "* 집합 자료형.\n",
        "\n"
      ],
      "metadata": {
        "id": "noH0yGywmxah"
      }
    },
    {
      "cell_type": "code",
      "execution_count": 1,
      "metadata": {
        "colab": {
          "base_uri": "https://localhost:8080/"
        },
        "id": "ZWOYw4YAmvwM",
        "outputId": "873300be-3650-4190-a9c5-408fe193f664"
      },
      "outputs": [
        {
          "output_type": "execute_result",
          "data": {
            "text/plain": [
              "{1, 2, 3}"
            ]
          },
          "metadata": {},
          "execution_count": 1
        }
      ],
      "source": [
        "s1 = set([1,2,3])\n",
        "s1"
      ]
    },
    {
      "cell_type": "markdown",
      "source": [
        "1. 순서가 없다.\n",
        "2. 중복을 혀용하지 않는다."
      ],
      "metadata": {
        "id": "dm2fbjWtm9T5"
      }
    },
    {
      "cell_type": "code",
      "source": [
        "s2 = set('Hello')\n",
        "s2"
      ],
      "metadata": {
        "colab": {
          "base_uri": "https://localhost:8080/"
        },
        "id": "Muvm0pg8m5Xe",
        "outputId": "53b8aedc-68d2-40b5-8f72-3d455d134012"
      },
      "execution_count": 2,
      "outputs": [
        {
          "output_type": "execute_result",
          "data": {
            "text/plain": [
              "{'H', 'e', 'l', 'o'}"
            ]
          },
          "metadata": {},
          "execution_count": 2
        }
      ]
    },
    {
      "cell_type": "markdown",
      "source": [
        "* 교집합."
      ],
      "metadata": {
        "id": "CGaCEKtynJwG"
      }
    },
    {
      "cell_type": "code",
      "source": [
        "s1 = set([1,2,3,4,5,6])\n",
        "s2 = set([4,5,6,7,8,9])\n",
        "s1 & s2"
      ],
      "metadata": {
        "colab": {
          "base_uri": "https://localhost:8080/"
        },
        "id": "HoamZA0UnILq",
        "outputId": "cc5f7c9c-f952-47a8-efa2-f8f58d3de0cc"
      },
      "execution_count": 3,
      "outputs": [
        {
          "output_type": "execute_result",
          "data": {
            "text/plain": [
              "{4, 5, 6}"
            ]
          },
          "metadata": {},
          "execution_count": 3
        }
      ]
    },
    {
      "cell_type": "markdown",
      "source": [
        "* 합집합."
      ],
      "metadata": {
        "id": "kop4YLqqnXF7"
      }
    },
    {
      "cell_type": "code",
      "source": [
        "s1 = set([1,2,3,4,5,6])\n",
        "s2 = set([4,5,6,7,8,9])\n",
        "s1 | s2"
      ],
      "metadata": {
        "colab": {
          "base_uri": "https://localhost:8080/"
        },
        "id": "gpQnwIpfnUPr",
        "outputId": "086be689-0144-4473-e256-1769c989d634"
      },
      "execution_count": 4,
      "outputs": [
        {
          "output_type": "execute_result",
          "data": {
            "text/plain": [
              "{1, 2, 3, 4, 5, 6, 7, 8, 9}"
            ]
          },
          "metadata": {},
          "execution_count": 4
        }
      ]
    },
    {
      "cell_type": "markdown",
      "source": [
        "* 차집합."
      ],
      "metadata": {
        "id": "KpA7NhjInc9C"
      }
    },
    {
      "cell_type": "code",
      "source": [
        "s1 = set([1,2,3,4,5,6])\n",
        "s2 = set([4,5,6,7,8,9])\n",
        "s1 - s2"
      ],
      "metadata": {
        "colab": {
          "base_uri": "https://localhost:8080/"
        },
        "id": "bRlZmDF2nfyl",
        "outputId": "ae2a11f3-1abc-42a6-fd88-1b65e0a74abe"
      },
      "execution_count": 6,
      "outputs": [
        {
          "output_type": "execute_result",
          "data": {
            "text/plain": [
              "{1, 2, 3}"
            ]
          },
          "metadata": {},
          "execution_count": 6
        }
      ]
    },
    {
      "cell_type": "code",
      "source": [
        "s2 - s1"
      ],
      "metadata": {
        "colab": {
          "base_uri": "https://localhost:8080/"
        },
        "id": "FW4jDnoDnjZI",
        "outputId": "f4d22cec-2ed3-4064-d74d-b3ad314a1762"
      },
      "execution_count": 7,
      "outputs": [
        {
          "output_type": "execute_result",
          "data": {
            "text/plain": [
              "{7, 8, 9}"
            ]
          },
          "metadata": {},
          "execution_count": 7
        }
      ]
    },
    {
      "cell_type": "markdown",
      "source": [
        "* 집합 전용 함수 : add"
      ],
      "metadata": {
        "id": "5oPuS6b8nnez"
      }
    },
    {
      "cell_type": "code",
      "source": [
        "s1 = set([1,2,3])\n",
        "s1.add(4)\n",
        "s1"
      ],
      "metadata": {
        "colab": {
          "base_uri": "https://localhost:8080/"
        },
        "id": "IZR_GWBDnmv5",
        "outputId": "fcc4da01-d28c-47f8-9ad4-3245625771b7"
      },
      "execution_count": 8,
      "outputs": [
        {
          "output_type": "execute_result",
          "data": {
            "text/plain": [
              "{1, 2, 3, 4}"
            ]
          },
          "metadata": {},
          "execution_count": 8
        }
      ]
    },
    {
      "cell_type": "markdown",
      "source": [
        "* 집합 전용 함수 : update"
      ],
      "metadata": {
        "id": "S1arJuhdnxe7"
      }
    },
    {
      "cell_type": "code",
      "source": [
        "s1 = set([1,2,3])\n",
        "s1.update([4,5,6])\n",
        "s1"
      ],
      "metadata": {
        "colab": {
          "base_uri": "https://localhost:8080/"
        },
        "id": "c2ivzcDinwS9",
        "outputId": "1408ef24-1a79-4009-ec4e-5b768d83a8b0"
      },
      "execution_count": 9,
      "outputs": [
        {
          "output_type": "execute_result",
          "data": {
            "text/plain": [
              "{1, 2, 3, 4, 5, 6}"
            ]
          },
          "metadata": {},
          "execution_count": 9
        }
      ]
    },
    {
      "cell_type": "markdown",
      "source": [
        "* 집합 전용 함수 : remove"
      ],
      "metadata": {
        "id": "Ss-_gJgioYcm"
      }
    },
    {
      "cell_type": "code",
      "source": [
        "s1 = set([1,2,3])\n",
        "s1.remove(2)\n",
        "s1"
      ],
      "metadata": {
        "colab": {
          "base_uri": "https://localhost:8080/"
        },
        "id": "qIMXXS7kn8Hs",
        "outputId": "5093660c-ef56-4082-fc7a-5c6cb21c6b90"
      },
      "execution_count": 10,
      "outputs": [
        {
          "output_type": "execute_result",
          "data": {
            "text/plain": [
              "{1, 3}"
            ]
          },
          "metadata": {},
          "execution_count": 10
        }
      ]
    },
    {
      "cell_type": "markdown",
      "source": [
        "▶ 퀴즈\n",
        "\n",
        "---\n",
        "\n",
        "\n",
        "a = [1,1,1,2,2,2,3,3,3,4,4,5,5,5,5]\n",
        "\n",
        "리스트 a를 [5,4,3,2,1]로 바꾸려면 어떻게 해야할까요?\n",
        "\n"
      ],
      "metadata": {
        "id": "fQKGSS5tohCb"
      }
    },
    {
      "cell_type": "code",
      "source": [
        "a = [1,1,1,2,2,2,3,3,3,4,4,5,5,5,5]\n",
        "a = set(a)\n",
        "a = list(a)\n",
        "a.reverse()\n",
        "a"
      ],
      "metadata": {
        "colab": {
          "base_uri": "https://localhost:8080/"
        },
        "id": "jbUF3dt6oeQk",
        "outputId": "a092e1b9-fe16-42b8-b603-beb233307083"
      },
      "execution_count": 12,
      "outputs": [
        {
          "output_type": "execute_result",
          "data": {
            "text/plain": [
              "[5, 4, 3, 2, 1]"
            ]
          },
          "metadata": {},
          "execution_count": 12
        }
      ]
    },
    {
      "cell_type": "code",
      "source": [
        "'''\n",
        "list1 = [1,1,1,1,2,2,2,2,4,4,4,4,5,5,5,5,5,3,3,3,3]\n",
        "\n",
        "리스트 값이 들어있는 변수 list1을 (5,4,3,2,1) 로 변환한 후, \n",
        "\n",
        "set1 = set([3,4,5,6,7])\n",
        "\n",
        "변수 set1과의 교집합, 합집합을 화면에 출력해보세요\n",
        "'''\n",
        "list1 = [1,1,1,1,2,2,2,2,4,4,4,4,5,5,5,5,5,3,3,3,3]\n",
        "list1 = list(set(list1))\n",
        "list1.sort(reverse = True)\n",
        "list1 = tuple(list1)\n",
        "\n",
        "print(list1)\n",
        "\n",
        "set1 = set([3,4,5,6,7])\n",
        "\n",
        "print(set(list1) & set1, set(list1) | set1)"
      ],
      "metadata": {
        "colab": {
          "base_uri": "https://localhost:8080/"
        },
        "id": "LrRA-1TmpkEj",
        "outputId": "bd7f384c-7c25-41c5-984e-7ea3d5003aba"
      },
      "execution_count": 13,
      "outputs": [
        {
          "output_type": "stream",
          "name": "stdout",
          "text": [
            "(5, 4, 3, 2, 1)\n",
            "{3, 4, 5} {1, 2, 3, 4, 5, 6, 7}\n"
          ]
        }
      ]
    }
  ]
}