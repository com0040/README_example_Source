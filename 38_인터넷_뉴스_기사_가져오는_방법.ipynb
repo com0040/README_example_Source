{
  "nbformat": 4,
  "nbformat_minor": 0,
  "metadata": {
    "colab": {
      "provenance": [],
      "collapsed_sections": [],
      "authorship_tag": "ABX9TyPdoH/ZfEzl1N/ybfYB0zmd",
      "include_colab_link": true
    },
    "kernelspec": {
      "name": "python3",
      "display_name": "Python 3"
    },
    "language_info": {
      "name": "python"
    }
  },
  "cells": [
    {
      "cell_type": "markdown",
      "metadata": {
        "id": "view-in-github",
        "colab_type": "text"
      },
      "source": [
        "<a href=\"https://colab.research.google.com/github/com0040/README_example_Source/blob/main/38_%EC%9D%B8%ED%84%B0%EB%84%B7_%EB%89%B4%EC%8A%A4_%EA%B8%B0%EC%82%AC_%EA%B0%80%EC%A0%B8%EC%98%A4%EB%8A%94_%EB%B0%A9%EB%B2%95.ipynb\" target=\"_parent\"><img src=\"https://colab.research.google.com/assets/colab-badge.svg\" alt=\"Open In Colab\"/></a>"
      ]
    },
    {
      "cell_type": "code",
      "execution_count": 1,
      "metadata": {
        "id": "Q-0TiASST5l2"
      },
      "outputs": [],
      "source": [
        "# 클릭을 안하면 됨 = 제목을 가져올 때 네이버에서 가져온다 (태그이름이 같은 것으로)\n",
        "# 혹은 네이버 뉴스 -> 신문사가 달라도 다 모아놓은 곳\n",
        "# 한페이지 10개 * 네이버는 400페이지 제공 X 2(뉴스기사 + 내용) =8000개 txt 데이터터 \n",
        "import requests\n",
        "from bs4 import BeautifulSoup\n",
        "import pandas as pd\n",
        "import time"
      ]
    },
    {
      "cell_type": "code",
      "source": [
        "#1 태그 찾기\n",
        "url=requests.get('https://search.naver.com/search.naver?where=news&sm=tab_pge&query=%ED%95%9C%EA%B5%AD&sort=0&photo=0&field=0&pd=0&ds=&de=&cluster_rank=60&mynews=0&office_type=0&office_section_code=0&news_office_checked=&nso=so:r,p:all,a:all&start=1')\n",
        "html=BeautifulSoup(url.text)\n",
        "\n",
        "len(html.find('ul',class_='list_news').find_all('li',class_='bx')) # ul = 전체 뉴스를 묶어주는 부분/li=개별 기사 부분\n",
        "# len:길이확인"
      ],
      "metadata": {
        "colab": {
          "base_uri": "https://localhost:8080/"
        },
        "id": "U3NR6VWHdQBo",
        "outputId": "5a4602ce-55b9-4cf1-b017-f2d7f9b58993"
      },
      "execution_count": 8,
      "outputs": [
        {
          "output_type": "execute_result",
          "data": {
            "text/plain": [
              "10"
            ]
          },
          "metadata": {},
          "execution_count": 8
        }
      ]
    },
    {
      "cell_type": "code",
      "source": [
        "total=[]\n",
        "\n",
        "news=html.find('ul',class_='list_news').find_all('li',class_='bx')\n",
        "for i in news:\n",
        "    title=i.find('a',class_='news_tit').text # i = 각각 뉴스기사/ 제목 태그'a' 클래스 속성 찾기/알맹이=text\n",
        "    content=i.find('a',class_='api_txt_lines dsc_txt_wrap').text # 요약내용 태그\n",
        "\n",
        "    total.append([title,content])\n",
        "\n",
        "len(total)"
      ],
      "metadata": {
        "colab": {
          "base_uri": "https://localhost:8080/"
        },
        "id": "NmNaiPCZee_E",
        "outputId": "fe71780d-ce29-400b-af48-a853886b8088"
      },
      "execution_count": 22,
      "outputs": [
        {
          "output_type": "execute_result",
          "data": {
            "text/plain": [
              "10"
            ]
          },
          "metadata": {},
          "execution_count": 22
        }
      ]
    },
    {
      "cell_type": "code",
      "source": [
        "df = pd.DataFrame(total,columns=['제목','요약'])\n",
        "df"
      ],
      "metadata": {
        "colab": {
          "base_uri": "https://localhost:8080/",
          "height": 494
        },
        "id": "6ADFFUP5gSTU",
        "outputId": "d2c28a3a-35a5-4589-a8d5-2049a27e39f6"
      },
      "execution_count": 27,
      "outputs": [
        {
          "output_type": "execute_result",
          "data": {
            "text/plain": [
              "                                       제목  \\\n",
              "0   尹대통령 지지율 28%…1%p 하락, 4주 연속 20%대[한국갤럽]   \n",
              "1        추경호 만난 IMF 총재 \"한국, 과거 위기 가능성 없어\"   \n",
              "2          한국전기연구원, ‘2022 대한민국 SNS 대상’ 수상   \n",
              "3           차이잉원 “1인당 GDP 한국 제치고 동아시아 1위”   \n",
              "4  한국, 5년만에 대북 독자제재… 北 개인15명·기관 16개 대상 추가   \n",
              "5  한국정부, 5년만에 대북 독자제재…WMD 관여 개인15명·기관 16곳   \n",
              "6     美 \"핵 포함 美의 모든 방어능력 사용해 한국에 확장억제 제공\"   \n",
              "7       넷플릭스, '5500원' 광고 요금제 내놓는다…한국은 언제쯤   \n",
              "8   [월드리포트] '한국 내 전술핵 재배치 불가'…미 국가안보전략 공개   \n",
              "9           IMF 총재 \"한국, 과거와 같은 위기 가능성 없다\"   \n",
              "\n",
              "                                                  요약  \n",
              "0  한국갤럽이 지난 11~13일 전국 성인 1천명을 대상으로 조사한 결과 윤 대통령이 ...  \n",
              "1  기사내용 요약 미국 워싱턴DC서 만나 인플레 등 논의 한국의 외환보유액·경상수지 긍...  \n",
              "2  경남 창원의 한국전기연구원(KERI)이 온라인 홍보 분야에서의 뛰어난 성과 공로를 ...  \n",
              "3  대만의 1인당 국내총생산(GDP)이 올해 한국을 추월한다. 차이잉원 대만 총통은 이...  \n",
              "4  및 한국은행 총재의 사전 허가가 필요하며, 허가를 받지 않고 거래하는 경우 관련법에...  \n",
              "5  우리 정부의 독자제재 대상으로 지정되면 정부의 사전허가 없이는 한국측과 외환거래 또...  \n",
              "6  (현지시간) 한국내 일각에서 제기하고 있는 '핵 공유' 문제와 관련해 핵무기를 포함...  \n",
              "7  한국·미국·영국 등 12개 국가 우선 도입 미국 월 6.99달러, 한국 5500원 ...  \n",
              "8  '한국 정부에 물어라'…미국 속내는? 자체 핵무장을 제외하면 한반도 내 전술핵 재배...  \n",
              "9  IMF 총재가 한국 경제에 대해 과거와 같은 위기 가능성은 없다고 평가했습니다. 기...  "
            ],
            "text/html": [
              "\n",
              "  <div id=\"df-43c29e90-ecfb-49ce-be26-d78c47b2701e\">\n",
              "    <div class=\"colab-df-container\">\n",
              "      <div>\n",
              "<style scoped>\n",
              "    .dataframe tbody tr th:only-of-type {\n",
              "        vertical-align: middle;\n",
              "    }\n",
              "\n",
              "    .dataframe tbody tr th {\n",
              "        vertical-align: top;\n",
              "    }\n",
              "\n",
              "    .dataframe thead th {\n",
              "        text-align: right;\n",
              "    }\n",
              "</style>\n",
              "<table border=\"1\" class=\"dataframe\">\n",
              "  <thead>\n",
              "    <tr style=\"text-align: right;\">\n",
              "      <th></th>\n",
              "      <th>제목</th>\n",
              "      <th>요약</th>\n",
              "    </tr>\n",
              "  </thead>\n",
              "  <tbody>\n",
              "    <tr>\n",
              "      <th>0</th>\n",
              "      <td>尹대통령 지지율 28%…1%p 하락, 4주 연속 20%대[한국갤럽]</td>\n",
              "      <td>한국갤럽이 지난 11~13일 전국 성인 1천명을 대상으로 조사한 결과 윤 대통령이 ...</td>\n",
              "    </tr>\n",
              "    <tr>\n",
              "      <th>1</th>\n",
              "      <td>추경호 만난 IMF 총재 \"한국, 과거 위기 가능성 없어\"</td>\n",
              "      <td>기사내용 요약 미국 워싱턴DC서 만나 인플레 등 논의 한국의 외환보유액·경상수지 긍...</td>\n",
              "    </tr>\n",
              "    <tr>\n",
              "      <th>2</th>\n",
              "      <td>한국전기연구원, ‘2022 대한민국 SNS 대상’ 수상</td>\n",
              "      <td>경남 창원의 한국전기연구원(KERI)이 온라인 홍보 분야에서의 뛰어난 성과 공로를 ...</td>\n",
              "    </tr>\n",
              "    <tr>\n",
              "      <th>3</th>\n",
              "      <td>차이잉원 “1인당 GDP 한국 제치고 동아시아 1위”</td>\n",
              "      <td>대만의 1인당 국내총생산(GDP)이 올해 한국을 추월한다. 차이잉원 대만 총통은 이...</td>\n",
              "    </tr>\n",
              "    <tr>\n",
              "      <th>4</th>\n",
              "      <td>한국, 5년만에 대북 독자제재… 北 개인15명·기관 16개 대상 추가</td>\n",
              "      <td>및 한국은행 총재의 사전 허가가 필요하며, 허가를 받지 않고 거래하는 경우 관련법에...</td>\n",
              "    </tr>\n",
              "    <tr>\n",
              "      <th>5</th>\n",
              "      <td>한국정부, 5년만에 대북 독자제재…WMD 관여 개인15명·기관 16곳</td>\n",
              "      <td>우리 정부의 독자제재 대상으로 지정되면 정부의 사전허가 없이는 한국측과 외환거래 또...</td>\n",
              "    </tr>\n",
              "    <tr>\n",
              "      <th>6</th>\n",
              "      <td>美 \"핵 포함 美의 모든 방어능력 사용해 한국에 확장억제 제공\"</td>\n",
              "      <td>(현지시간) 한국내 일각에서 제기하고 있는 '핵 공유' 문제와 관련해 핵무기를 포함...</td>\n",
              "    </tr>\n",
              "    <tr>\n",
              "      <th>7</th>\n",
              "      <td>넷플릭스, '5500원' 광고 요금제 내놓는다…한국은 언제쯤</td>\n",
              "      <td>한국·미국·영국 등 12개 국가 우선 도입 미국 월 6.99달러, 한국 5500원 ...</td>\n",
              "    </tr>\n",
              "    <tr>\n",
              "      <th>8</th>\n",
              "      <td>[월드리포트] '한국 내 전술핵 재배치 불가'…미 국가안보전략 공개</td>\n",
              "      <td>'한국 정부에 물어라'…미국 속내는? 자체 핵무장을 제외하면 한반도 내 전술핵 재배...</td>\n",
              "    </tr>\n",
              "    <tr>\n",
              "      <th>9</th>\n",
              "      <td>IMF 총재 \"한국, 과거와 같은 위기 가능성 없다\"</td>\n",
              "      <td>IMF 총재가 한국 경제에 대해 과거와 같은 위기 가능성은 없다고 평가했습니다. 기...</td>\n",
              "    </tr>\n",
              "  </tbody>\n",
              "</table>\n",
              "</div>\n",
              "      <button class=\"colab-df-convert\" onclick=\"convertToInteractive('df-43c29e90-ecfb-49ce-be26-d78c47b2701e')\"\n",
              "              title=\"Convert this dataframe to an interactive table.\"\n",
              "              style=\"display:none;\">\n",
              "        \n",
              "  <svg xmlns=\"http://www.w3.org/2000/svg\" height=\"24px\"viewBox=\"0 0 24 24\"\n",
              "       width=\"24px\">\n",
              "    <path d=\"M0 0h24v24H0V0z\" fill=\"none\"/>\n",
              "    <path d=\"M18.56 5.44l.94 2.06.94-2.06 2.06-.94-2.06-.94-.94-2.06-.94 2.06-2.06.94zm-11 1L8.5 8.5l.94-2.06 2.06-.94-2.06-.94L8.5 2.5l-.94 2.06-2.06.94zm10 10l.94 2.06.94-2.06 2.06-.94-2.06-.94-.94-2.06-.94 2.06-2.06.94z\"/><path d=\"M17.41 7.96l-1.37-1.37c-.4-.4-.92-.59-1.43-.59-.52 0-1.04.2-1.43.59L10.3 9.45l-7.72 7.72c-.78.78-.78 2.05 0 2.83L4 21.41c.39.39.9.59 1.41.59.51 0 1.02-.2 1.41-.59l7.78-7.78 2.81-2.81c.8-.78.8-2.07 0-2.86zM5.41 20L4 18.59l7.72-7.72 1.47 1.35L5.41 20z\"/>\n",
              "  </svg>\n",
              "      </button>\n",
              "      \n",
              "  <style>\n",
              "    .colab-df-container {\n",
              "      display:flex;\n",
              "      flex-wrap:wrap;\n",
              "      gap: 12px;\n",
              "    }\n",
              "\n",
              "    .colab-df-convert {\n",
              "      background-color: #E8F0FE;\n",
              "      border: none;\n",
              "      border-radius: 50%;\n",
              "      cursor: pointer;\n",
              "      display: none;\n",
              "      fill: #1967D2;\n",
              "      height: 32px;\n",
              "      padding: 0 0 0 0;\n",
              "      width: 32px;\n",
              "    }\n",
              "\n",
              "    .colab-df-convert:hover {\n",
              "      background-color: #E2EBFA;\n",
              "      box-shadow: 0px 1px 2px rgba(60, 64, 67, 0.3), 0px 1px 3px 1px rgba(60, 64, 67, 0.15);\n",
              "      fill: #174EA6;\n",
              "    }\n",
              "\n",
              "    [theme=dark] .colab-df-convert {\n",
              "      background-color: #3B4455;\n",
              "      fill: #D2E3FC;\n",
              "    }\n",
              "\n",
              "    [theme=dark] .colab-df-convert:hover {\n",
              "      background-color: #434B5C;\n",
              "      box-shadow: 0px 1px 3px 1px rgba(0, 0, 0, 0.15);\n",
              "      filter: drop-shadow(0px 1px 2px rgba(0, 0, 0, 0.3));\n",
              "      fill: #FFFFFF;\n",
              "    }\n",
              "  </style>\n",
              "\n",
              "      <script>\n",
              "        const buttonEl =\n",
              "          document.querySelector('#df-43c29e90-ecfb-49ce-be26-d78c47b2701e button.colab-df-convert');\n",
              "        buttonEl.style.display =\n",
              "          google.colab.kernel.accessAllowed ? 'block' : 'none';\n",
              "\n",
              "        async function convertToInteractive(key) {\n",
              "          const element = document.querySelector('#df-43c29e90-ecfb-49ce-be26-d78c47b2701e');\n",
              "          const dataTable =\n",
              "            await google.colab.kernel.invokeFunction('convertToInteractive',\n",
              "                                                     [key], {});\n",
              "          if (!dataTable) return;\n",
              "\n",
              "          const docLinkHtml = 'Like what you see? Visit the ' +\n",
              "            '<a target=\"_blank\" href=https://colab.research.google.com/notebooks/data_table.ipynb>data table notebook</a>'\n",
              "            + ' to learn more about interactive tables.';\n",
              "          element.innerHTML = '';\n",
              "          dataTable['output_type'] = 'display_data';\n",
              "          await google.colab.output.renderOutput(dataTable, element);\n",
              "          const docLink = document.createElement('div');\n",
              "          docLink.innerHTML = docLinkHtml;\n",
              "          element.appendChild(docLink);\n",
              "        }\n",
              "      </script>\n",
              "    </div>\n",
              "  </div>\n",
              "  "
            ]
          },
          "metadata": {},
          "execution_count": 27
        }
      ]
    },
    {
      "cell_type": "code",
      "source": [],
      "metadata": {
        "id": "d__Ya6Byi9xU"
      },
      "execution_count": null,
      "outputs": []
    }
  ]
}