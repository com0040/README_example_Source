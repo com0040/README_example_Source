{
  "nbformat": 4,
  "nbformat_minor": 0,
  "metadata": {
    "colab": {
      "provenance": [],
      "authorship_tag": "ABX9TyN5NVSRcT47sdE2n7rn9BES",
      "include_colab_link": true
    },
    "kernelspec": {
      "name": "python3",
      "display_name": "Python 3"
    },
    "language_info": {
      "name": "python"
    }
  },
  "cells": [
    {
      "cell_type": "markdown",
      "metadata": {
        "id": "view-in-github",
        "colab_type": "text"
      },
      "source": [
        "<a href=\"https://colab.research.google.com/github/com0040/python-and-data-anlysis-basic/blob/main/12_%EB%B0%98%EB%B3%B5%EB%AC%B8_FOR%EB%AC%B8%09.ipynb\" target=\"_parent\"><img src=\"https://colab.research.google.com/assets/colab-badge.svg\" alt=\"Open In Colab\"/></a>"
      ]
    },
    {
      "cell_type": "markdown",
      "source": [
        "요청한만큼 순서대로 반복하는 반복문."
      ],
      "metadata": {
        "id": "U0LoOUnb3RDe"
      }
    },
    {
      "cell_type": "markdown",
      "source": [
        "* for문의 기본구조\n",
        "```\n",
        "for 변수이름 in 반복하고싶은것(리스트,튜플,딕셔너리,문자열 등):\n",
        "    수행할 코드 1\n",
        "    수행할 코드 2\n",
        "```"
      ],
      "metadata": {
        "id": "brbDVsZm3Xxj"
      }
    },
    {
      "cell_type": "code",
      "execution_count": 1,
      "metadata": {
        "colab": {
          "base_uri": "https://localhost:8080/"
        },
        "id": "7laQWz2i2H-N",
        "outputId": "e47fad41-e300-4d1f-9ee7-24165a9ed1a4"
      },
      "outputs": [
        {
          "output_type": "stream",
          "name": "stdout",
          "text": [
            "H\n",
            "e\n",
            "l\n",
            "l\n",
            "o\n"
          ]
        }
      ],
      "source": [
        "for i in 'Hello':\n",
        "    print(i)"
      ]
    },
    {
      "cell_type": "code",
      "source": [
        "for i in ['홍길동','이순신','아이유']:\n",
        "    print(i)"
      ],
      "metadata": {
        "colab": {
          "base_uri": "https://localhost:8080/"
        },
        "id": "d_aG11__3vEi",
        "outputId": "638ce2fd-7daf-4467-808a-1cad03bc5eb7"
      },
      "execution_count": 2,
      "outputs": [
        {
          "output_type": "stream",
          "name": "stdout",
          "text": [
            "홍길동\n",
            "이순신\n",
            "아이유\n"
          ]
        }
      ]
    },
    {
      "cell_type": "code",
      "source": [
        "for i in {'이름':'홍길동','성별':'남자','나이':30}:\n",
        "    print(i)"
      ],
      "metadata": {
        "colab": {
          "base_uri": "https://localhost:8080/"
        },
        "id": "ucMPLbgM378_",
        "outputId": "35ff09c8-595b-4a32-aeb8-a66da0c6cd2f"
      },
      "execution_count": 4,
      "outputs": [
        {
          "output_type": "stream",
          "name": "stdout",
          "text": [
            "이름\n",
            "성별\n",
            "나이\n"
          ]
        }
      ]
    },
    {
      "cell_type": "markdown",
      "source": [
        "* for문의 범위 반복."
      ],
      "metadata": {
        "id": "kw9fQ7vh4QQ0"
      }
    },
    {
      "cell_type": "code",
      "source": [
        "for i in range(10): # 시작 = 0\n",
        "    print(i)"
      ],
      "metadata": {
        "colab": {
          "base_uri": "https://localhost:8080/"
        },
        "id": "89bH29Jh4JBH",
        "outputId": "d10f7c75-1b36-49d7-9f78-c716561c7755"
      },
      "execution_count": 5,
      "outputs": [
        {
          "output_type": "stream",
          "name": "stdout",
          "text": [
            "0\n",
            "1\n",
            "2\n",
            "3\n",
            "4\n",
            "5\n",
            "6\n",
            "7\n",
            "8\n",
            "9\n"
          ]
        }
      ]
    },
    {
      "cell_type": "code",
      "source": [
        "for i in range(1,10,2): # 1부터 10까지 2씩 증가.\n",
        "    print(i)"
      ],
      "metadata": {
        "colab": {
          "base_uri": "https://localhost:8080/"
        },
        "id": "Fh41k0XT4Vc2",
        "outputId": "cf5e1df7-3958-443a-92aa-55791dc3e5ef"
      },
      "execution_count": 6,
      "outputs": [
        {
          "output_type": "stream",
          "name": "stdout",
          "text": [
            "1\n",
            "3\n",
            "5\n",
            "7\n",
            "9\n"
          ]
        }
      ]
    },
    {
      "cell_type": "markdown",
      "source": [
        "* 2중 for문."
      ],
      "metadata": {
        "id": "3jgXoQSK4opl"
      }
    },
    {
      "cell_type": "code",
      "source": [
        "for i in range(2,10):\n",
        "    for j in range(1,10):\n",
        "        print('{} X {} = {}'.format(i,j,i*j))"
      ],
      "metadata": {
        "colab": {
          "base_uri": "https://localhost:8080/"
        },
        "id": "OEcooKP64fzN",
        "outputId": "8baad35c-be4a-4789-ce21-5236c0da377b"
      },
      "execution_count": 7,
      "outputs": [
        {
          "output_type": "stream",
          "name": "stdout",
          "text": [
            "2 X 1 = 2\n",
            "2 X 2 = 4\n",
            "2 X 3 = 6\n",
            "2 X 4 = 8\n",
            "2 X 5 = 10\n",
            "2 X 6 = 12\n",
            "2 X 7 = 14\n",
            "2 X 8 = 16\n",
            "2 X 9 = 18\n",
            "3 X 1 = 3\n",
            "3 X 2 = 6\n",
            "3 X 3 = 9\n",
            "3 X 4 = 12\n",
            "3 X 5 = 15\n",
            "3 X 6 = 18\n",
            "3 X 7 = 21\n",
            "3 X 8 = 24\n",
            "3 X 9 = 27\n",
            "4 X 1 = 4\n",
            "4 X 2 = 8\n",
            "4 X 3 = 12\n",
            "4 X 4 = 16\n",
            "4 X 5 = 20\n",
            "4 X 6 = 24\n",
            "4 X 7 = 28\n",
            "4 X 8 = 32\n",
            "4 X 9 = 36\n",
            "5 X 1 = 5\n",
            "5 X 2 = 10\n",
            "5 X 3 = 15\n",
            "5 X 4 = 20\n",
            "5 X 5 = 25\n",
            "5 X 6 = 30\n",
            "5 X 7 = 35\n",
            "5 X 8 = 40\n",
            "5 X 9 = 45\n",
            "6 X 1 = 6\n",
            "6 X 2 = 12\n",
            "6 X 3 = 18\n",
            "6 X 4 = 24\n",
            "6 X 5 = 30\n",
            "6 X 6 = 36\n",
            "6 X 7 = 42\n",
            "6 X 8 = 48\n",
            "6 X 9 = 54\n",
            "7 X 1 = 7\n",
            "7 X 2 = 14\n",
            "7 X 3 = 21\n",
            "7 X 4 = 28\n",
            "7 X 5 = 35\n",
            "7 X 6 = 42\n",
            "7 X 7 = 49\n",
            "7 X 8 = 56\n",
            "7 X 9 = 63\n",
            "8 X 1 = 8\n",
            "8 X 2 = 16\n",
            "8 X 3 = 24\n",
            "8 X 4 = 32\n",
            "8 X 5 = 40\n",
            "8 X 6 = 48\n",
            "8 X 7 = 56\n",
            "8 X 8 = 64\n",
            "8 X 9 = 72\n",
            "9 X 1 = 9\n",
            "9 X 2 = 18\n",
            "9 X 3 = 27\n",
            "9 X 4 = 36\n",
            "9 X 5 = 45\n",
            "9 X 6 = 54\n",
            "9 X 7 = 63\n",
            "9 X 8 = 72\n",
            "9 X 9 = 81\n"
          ]
        }
      ]
    },
    {
      "cell_type": "markdown",
      "source": [
        "* 리스트 내포."
      ],
      "metadata": {
        "id": "lEyW_va048fM"
      }
    },
    {
      "cell_type": "code",
      "source": [
        "box = [i for i in range(1,6)] # 1~6까지 반복한 것이 리스트의 성분이다\n",
        "print(box)"
      ],
      "metadata": {
        "colab": {
          "base_uri": "https://localhost:8080/"
        },
        "id": "Z80ps9sp43I3",
        "outputId": "a9a56df7-40a8-45ef-88c4-8379efd1c476"
      },
      "execution_count": 8,
      "outputs": [
        {
          "output_type": "stream",
          "name": "stdout",
          "text": [
            "[1, 2, 3, 4, 5]\n"
          ]
        }
      ]
    },
    {
      "cell_type": "code",
      "source": [
        "box = [i for i in range(1,6) if i % 2 == 0]\n",
        "# box의 성분은 1~6까지 반복한 것 중 2로 나누었을때 나머지가 0인 것이다.\n",
        "print(box)"
      ],
      "metadata": {
        "colab": {
          "base_uri": "https://localhost:8080/"
        },
        "id": "PUpo8j3c5EXd",
        "outputId": "3246f8bf-73bb-4510-85bb-e2f7ad1cef02"
      },
      "execution_count": 10,
      "outputs": [
        {
          "output_type": "stream",
          "name": "stdout",
          "text": [
            "[2, 4]\n"
          ]
        }
      ]
    },
    {
      "cell_type": "markdown",
      "source": [
        "▶ 실전문제."
      ],
      "metadata": {
        "id": "nlfGC0gS5m42"
      }
    },
    {
      "cell_type": "code",
      "source": [
        "'''\n",
        "로또 번호는 1번부터 45번까지 존재하고, 중복되지 않은 6개의 조합으로 당첨번호를 추첨합니다. \n",
        "로또 당첨 번호가 총 몇 개의 조합이 있는 지 for문을 사용해서 로또 당첨 번호의 총 개수를 구해보세요\n",
        "'''\n",
        "lotto = 0\n",
        "for i in range(1,46):\n",
        "    for j in range(i+1,46): \n",
        "        for k in range(j+1,46):\n",
        "            for l in range(k+1,46):\n",
        "                for m in range(l+1,46):\n",
        "                    for n in range(m+1,46):\n",
        "                        lotto += 1\n",
        "print(lotto)"
      ],
      "metadata": {
        "colab": {
          "base_uri": "https://localhost:8080/"
        },
        "id": "mJXQhhcj5H4l",
        "outputId": "39ce6558-02aa-4600-bf69-e768095aa675"
      },
      "execution_count": 11,
      "outputs": [
        {
          "output_type": "stream",
          "name": "stdout",
          "text": [
            "8145060\n"
          ]
        }
      ]
    },
    {
      "cell_type": "code",
      "source": [],
      "metadata": {
        "id": "3b-9tyBO5qTb"
      },
      "execution_count": null,
      "outputs": []
    }
  ]
}