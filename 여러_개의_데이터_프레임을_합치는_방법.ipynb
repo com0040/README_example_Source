{
  "nbformat": 4,
  "nbformat_minor": 0,
  "metadata": {
    "colab": {
      "provenance": [],
      "collapsed_sections": [],
      "authorship_tag": "ABX9TyOKJIP7GtLYfd+CIwUHr83a",
      "include_colab_link": true
    },
    "kernelspec": {
      "name": "python3",
      "display_name": "Python 3"
    },
    "language_info": {
      "name": "python"
    }
  },
  "cells": [
    {
      "cell_type": "markdown",
      "metadata": {
        "id": "view-in-github",
        "colab_type": "text"
      },
      "source": [
        "<a href=\"https://colab.research.google.com/github/com0040/README_example_Source/blob/main/%EC%97%AC%EB%9F%AC_%EA%B0%9C%EC%9D%98_%EB%8D%B0%EC%9D%B4%ED%84%B0_%ED%94%84%EB%A0%88%EC%9E%84%EC%9D%84_%ED%95%A9%EC%B9%98%EB%8A%94_%EB%B0%A9%EB%B2%95.ipynb\" target=\"_parent\"><img src=\"https://colab.research.google.com/assets/colab-badge.svg\" alt=\"Open In Colab\"/></a>"
      ]
    },
    {
      "cell_type": "code",
      "execution_count": 1,
      "metadata": {
        "id": "0wcz9WSKTD6-"
      },
      "outputs": [],
      "source": [
        "import pandas as pd"
      ]
    },
    {
      "cell_type": "code",
      "source": [
        "df1 = pd.read_csv('concat_1.csv')\n",
        "df2 = pd.read_csv('concat_2.csv')\n",
        "df3 = pd.read_csv('concat_3.csv')"
      ],
      "metadata": {
        "id": "dOKiRQX9UYo_"
      },
      "execution_count": null,
      "outputs": []
    },
    {
      "cell_type": "code",
      "source": [
        "concat1 = pd.concat([df1,df2,df3])\n",
        "concat1\n",
        "concat1.loc[0]"
      ],
      "metadata": {
        "id": "EYUpNf8aVirP"
      },
      "execution_count": null,
      "outputs": []
    },
    {
      "cell_type": "code",
      "source": [
        "concat1 = pd.concat([df1,df2,df3],ignore_index = True)\n",
        "concat1"
      ],
      "metadata": {
        "id": "rkTMwhD-VtXD"
      },
      "execution_count": null,
      "outputs": []
    },
    {
      "cell_type": "code",
      "source": [
        "concat2 = pd.concat([df1,df2,df3],axis = 1,ignore_index = True) # axis = 0 기본본\n",
        "concat2"
      ],
      "metadata": {
        "id": "UddwXIvXWqiI"
      },
      "execution_count": null,
      "outputs": []
    },
    {
      "cell_type": "code",
      "source": [
        "# 행이름이 다른 데이터프레임이 있다면 합쳐줄까?\n",
        "\n",
        "df2.index = [0,3,5,7]"
      ],
      "metadata": {
        "id": "_LmA-NYOW16y"
      },
      "execution_count": null,
      "outputs": []
    },
    {
      "cell_type": "code",
      "source": [
        "pd.condcat([df1,df2,df3]) # 만들어서라도 합쳐준다"
      ],
      "metadata": {
        "id": "obr1t6_cXD_3"
      },
      "execution_count": null,
      "outputs": []
    },
    {
      "cell_type": "code",
      "source": [
        "df2.colums = ['A','C','E','F']"
      ],
      "metadata": {
        "id": "4ZBK_122XYoM"
      },
      "execution_count": null,
      "outputs": []
    },
    {
      "cell_type": "code",
      "source": [],
      "metadata": {
        "id": "cx_KQAAKXjSh"
      },
      "execution_count": null,
      "outputs": []
    }
  ]
}