{
  "nbformat": 4,
  "nbformat_minor": 0,
  "metadata": {
    "colab": {
      "provenance": [],
      "authorship_tag": "ABX9TyNbOi83I9zFqLPWRDkFqCbh",
      "include_colab_link": true
    },
    "kernelspec": {
      "name": "python3",
      "display_name": "Python 3"
    },
    "language_info": {
      "name": "python"
    }
  },
  "cells": [
    {
      "cell_type": "markdown",
      "metadata": {
        "id": "view-in-github",
        "colab_type": "text"
      },
      "source": [
        "<a href=\"https://colab.research.google.com/github/com0040/python-and-data-anlysis-basic/blob/main/15_%EC%98%88%EC%99%B8%EC%B2%98%EB%A6%AC.ipynb\" target=\"_parent\"><img src=\"https://colab.research.google.com/assets/colab-badge.svg\" alt=\"Open In Colab\"/></a>"
      ]
    },
    {
      "cell_type": "markdown",
      "source": [
        "에러가 발생했을 때, 에러를 무시하는 기술\n",
        "* 예외처리를 해야하는 경우\n",
        "1. 내 코드에 아무런 문제가 없을 때.\n",
        "2. 어디론가 이동할 떄."
      ],
      "metadata": {
        "id": "o57NCO2nBkjH"
      }
    },
    {
      "cell_type": "markdown",
      "source": [
        "* 예외처리 기본구조\n",
        "```\n",
        "try:\n",
        "    수행할 코드\n",
        "except:\n",
        "    수행할 코드\n",
        "```\n",
        "```\n",
        "try:\n",
        "    수행할 코드\n",
        "except:\n",
        "    수행할 코드\n",
        "finally:\n",
        "    수행할 코드\n",
        "```"
      ],
      "metadata": {
        "id": "7rVYW6ccBxGB"
      }
    },
    {
      "cell_type": "markdown",
      "source": [
        "* 에러 일부러 발생 시키키기\n",
        "```\n",
        "raise 에러이름\n",
        "```"
      ],
      "metadata": {
        "id": "QDYaoBhmCEI9"
      }
    },
    {
      "cell_type": "markdown",
      "source": [
        "▶ 실전 예제"
      ],
      "metadata": {
        "id": "0Bj7MHtmCaMr"
      }
    },
    {
      "cell_type": "code",
      "execution_count": 1,
      "metadata": {
        "colab": {
          "base_uri": "https://localhost:8080/"
        },
        "id": "ZZGmTBDw_d4H",
        "outputId": "1a50cbb7-2eb8-46ac-e8cf-c200f86724f2"
      },
      "outputs": [
        {
          "output_type": "stream",
          "name": "stdout",
          "text": [
            "찾았습니다!\n",
            "굳굳\n"
          ]
        }
      ],
      "source": [
        "# 아래 코드에서 찾았습니다! 가 출력되었을때, 모든 반복문을 강제로 나가는 코드로 수정해보세요. \n",
        "try:\n",
        "    for n1 in range(1000): \n",
        "       for n2 in range(1000): \n",
        "           for n3 in range(1000): \n",
        "               for n4 in range(1000): \n",
        "                   for n5 in range(1000): \n",
        "                       if (n1+n2+n3+n4+n5) == 1000:\n",
        "                        print(\"찾았습니다!\")\n",
        "                        raise NameError\n",
        "except:\n",
        "    pass\n",
        "\n",
        "print('굳굳')"
      ]
    },
    {
      "cell_type": "code",
      "source": [],
      "metadata": {
        "id": "LIpn4pRICc31"
      },
      "execution_count": null,
      "outputs": []
    }
  ]
}