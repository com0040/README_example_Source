{
  "nbformat": 4,
  "nbformat_minor": 0,
  "metadata": {
    "colab": {
      "provenance": [],
      "collapsed_sections": [],
      "authorship_tag": "ABX9TyPRHEHCug9m3rB+cJyf626X",
      "include_colab_link": true
    },
    "kernelspec": {
      "name": "python3",
      "display_name": "Python 3"
    },
    "language_info": {
      "name": "python"
    }
  },
  "cells": [
    {
      "cell_type": "markdown",
      "metadata": {
        "id": "view-in-github",
        "colab_type": "text"
      },
      "source": [
        "<a href=\"https://colab.research.google.com/github/com0040/python-and-data-anlysis-basic/blob/main/11_%EB%B0%98%EB%B3%B5%EB%AC%B8_WHILE%EB%AC%B8.ipynb\" target=\"_parent\"><img src=\"https://colab.research.google.com/assets/colab-badge.svg\" alt=\"Open In Colab\"/></a>"
      ]
    },
    {
      "cell_type": "markdown",
      "source": [
        "조건문이 참인 동안에 while문 아레의 문장이 반복해서 수행."
      ],
      "metadata": {
        "id": "ZFY7SxoX2Grc"
      }
    },
    {
      "cell_type": "markdown",
      "source": [
        "* 반복 while문.\n",
        "```\n",
        "wile <조건문>:\n",
        "    <수행할 문장 1>\n",
        "    <수행할 문장 2>\n",
        "    <수행할 문장 3>\n",
        "```"
      ],
      "metadata": {
        "id": "i1uBGmSz2Mzo"
      }
    },
    {
      "cell_type": "markdown",
      "source": [
        "* 반복문 강제로 빠져나가기(현재 반복문만) : break\n",
        "```\n",
        "wile <조건문>:\n",
        "    <수행할 문장 1>\n",
        "    <수행할 문장 2>\n",
        "    break\n",
        "```\n",
        "\n"
      ],
      "metadata": {
        "id": "-8J__SFV2cje"
      }
    },
    {
      "cell_type": "markdown",
      "source": [
        "* 반복문의 맨 처음으로 돌아가기 : condinue\n",
        "```\n",
        "wile <조건문>:\n",
        "    <수행할 문장 1>\n",
        "    <수행할 문장 2>\n",
        "    continue\n",
        "```"
      ],
      "metadata": {
        "id": "tmM10oBY2taK"
      }
    },
    {
      "cell_type": "markdown",
      "source": [
        "▶ 퀴즈."
      ],
      "metadata": {
        "id": "ESkEJ1Sy27Ly"
      }
    },
    {
      "cell_type": "code",
      "execution_count": null,
      "metadata": {
        "id": "uQ4l9_V-2Asf"
      },
      "outputs": [],
      "source": [
        "'''\n",
        "1. while문을 사용해서 1부터 1000까지 3의 배수의 합을 구해보세요.\n",
        "\n",
        "2. while문을 사용해서 1부터 100까지 더하는 코드를 작성 후, 결과값을 화면에 출력해보세요. \n",
        "'''\n",
        "a = 0\n",
        "b = 0\n",
        "while a <= 1000:\n",
        "    a = a + 1\n",
        "    if a % 3 ==0:\n",
        "        b += a\n",
        "    if a == 1000:\n",
        "        print(b)\n",
        "        \n",
        "c = 0\n",
        "d = 0\n",
        "while c <=100:\n",
        "    c = c+1\n",
        "    d += c\n",
        "    if c == 100;\n",
        "    "
      ]
    }
  ]
}