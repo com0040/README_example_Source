{
  "nbformat": 4,
  "nbformat_minor": 0,
  "metadata": {
    "colab": {
      "provenance": [],
      "authorship_tag": "ABX9TyOgo8TmMCg6WkVvsNb+BBO7",
      "include_colab_link": true
    },
    "kernelspec": {
      "name": "python3",
      "display_name": "Python 3"
    },
    "language_info": {
      "name": "python"
    }
  },
  "cells": [
    {
      "cell_type": "markdown",
      "metadata": {
        "id": "view-in-github",
        "colab_type": "text"
      },
      "source": [
        "<a href=\"https://colab.research.google.com/github/com0040/python-and-data-anlysis-basic/blob/main/1_%ED%8C%8C%EC%9D%B4%EC%8D%AC_%EC%95%8C%EC%95%84%EB%B3%B4%EA%B8%B0.ipynb\" target=\"_parent\"><img src=\"https://colab.research.google.com/assets/colab-badge.svg\" alt=\"Open In Colab\"/></a>"
      ]
    },
    {
      "cell_type": "markdown",
      "source": [
        "# **파이썬이 왜 데이터 분석과 머신러닝에 적합한 언어인지**"
      ],
      "metadata": {
        "id": "kjrrVpfNQrdo"
      }
    },
    {
      "cell_type": "markdown",
      "source": [
        "1991 인터프리터 방식 - 한줄씩 / 귀도반 로섬"
      ],
      "metadata": {
        "id": "ouyshlbhQ608"
      }
    },
    {
      "cell_type": "markdown",
      "source": [
        "인간다운 언어 \n",
        "\n",
        "강점 - 빠르게 배울 수 있다. 오류 관련 자료 방대 \n",
        "개발속도 \n",
        "\n",
        "데이터 크롤링 / 데이터 분석 / 머신러닝 / \n",
        "\n",
        "앱 개발 / 웹 개발 --> 비효율"
      ],
      "metadata": {
        "id": "uG53-LKvRGhA"
      }
    },
    {
      "cell_type": "markdown",
      "source": [
        "언어 = 만들어진 목적에 따라\n",
        "\n",
        "C 언어 : 속도\n",
        "\n",
        "자바 : 인터넷 웹사이트 / 안드로이드 어플리케이션\n",
        "\n",
        "Swift : 아이폰 언어"
      ],
      "metadata": {
        "id": "PcgTmrktRrJ6"
      }
    },
    {
      "cell_type": "markdown",
      "source": [
        "설치 - 기본 사이트(비추천 - 도구가 없다)\n",
        "\n",
        "아나콘다 = 필수 도구들이 다운로드된 파이썬 / 완성형\n",
        "\n",
        "주피터 - 웹브라우저(인터넷x 창만 빌려온다)\n",
        "\n",
        "코렙 - 주피터랑 같다 (인터넷이 되야함/구글드라이브/유료결제-성능좋은 컴퓨터 빌릴수 있다)\n",
        "\n",
        "파이참 - 프로그램밍 자동완성/"
      ],
      "metadata": {
        "id": "XRJMRRwCSD3q"
      }
    }
  ]
}