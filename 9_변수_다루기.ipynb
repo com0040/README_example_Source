{
  "nbformat": 4,
  "nbformat_minor": 0,
  "metadata": {
    "colab": {
      "provenance": [],
      "authorship_tag": "ABX9TyO4I2cCCPbTOXFW39exSI7m",
      "include_colab_link": true
    },
    "kernelspec": {
      "name": "python3",
      "display_name": "Python 3"
    },
    "language_info": {
      "name": "python"
    }
  },
  "cells": [
    {
      "cell_type": "markdown",
      "metadata": {
        "id": "view-in-github",
        "colab_type": "text"
      },
      "source": [
        "<a href=\"https://colab.research.google.com/github/com0040/python-and-data-anlysis-basic/blob/main/9_%EB%B3%80%EC%88%98_%EB%8B%A4%EB%A3%A8%EA%B8%B0.ipynb\" target=\"_parent\"><img src=\"https://colab.research.google.com/assets/colab-badge.svg\" alt=\"Open In Colab\"/></a>"
      ]
    },
    {
      "cell_type": "markdown",
      "source": [
        "변수다루기."
      ],
      "metadata": {
        "id": "bxjBqGq1sMEg"
      }
    },
    {
      "cell_type": "markdown",
      "source": [
        "* 변수를 할당하는 다양한 방법."
      ],
      "metadata": {
        "id": "J1MwJYq-sOdH"
      }
    },
    {
      "cell_type": "code",
      "source": [
        "a = 3\n",
        "a, b = 3, 5\n",
        "a, b = (3, 5)\n",
        "(a, b) = 3, 5\n",
        "print(a,b)"
      ],
      "metadata": {
        "colab": {
          "base_uri": "https://localhost:8080/"
        },
        "id": "iDmazo5FsRdp",
        "outputId": "92c244c0-e4d2-411e-d394-827aab9227a7"
      },
      "execution_count": 1,
      "outputs": [
        {
          "output_type": "stream",
          "name": "stdout",
          "text": [
            "3 5\n"
          ]
        }
      ]
    },
    {
      "cell_type": "code",
      "execution_count": 2,
      "metadata": {
        "colab": {
          "base_uri": "https://localhost:8080/"
        },
        "id": "dzKQKBN9sDl6",
        "outputId": "838ec34d-f4d7-4edd-88a5-29f78701cec8"
      },
      "outputs": [
        {
          "output_type": "stream",
          "name": "stdout",
          "text": [
            "python\n",
            "python\n"
          ]
        }
      ],
      "source": [
        "a = b = 'python'\n",
        "print(a)\n",
        "print(b)"
      ]
    },
    {
      "cell_type": "code",
      "source": [
        "a, b, *c = [1,3,5,4,2]\n",
        "print(a,b,c)"
      ],
      "metadata": {
        "colab": {
          "base_uri": "https://localhost:8080/"
        },
        "id": "QX2t7pD2snBF",
        "outputId": "988182da-288e-44c3-8bc2-c418f924750f"
      },
      "execution_count": 3,
      "outputs": [
        {
          "output_type": "stream",
          "name": "stdout",
          "text": [
            "1 3 [5, 4, 2]\n"
          ]
        }
      ]
    },
    {
      "cell_type": "code",
      "source": [
        "a, *b, c = [1,3,5,4,2]\n",
        "print(a,b,c)"
      ],
      "metadata": {
        "colab": {
          "base_uri": "https://localhost:8080/"
        },
        "id": "msOLDfwVswyO",
        "outputId": "59fc56fe-27bd-4407-91c6-ba7fb2564c61"
      },
      "execution_count": 4,
      "outputs": [
        {
          "output_type": "stream",
          "name": "stdout",
          "text": [
            "1 [3, 5, 4] 2\n"
          ]
        }
      ]
    },
    {
      "cell_type": "markdown",
      "source": [
        "* 변수를 복사하는 방법."
      ],
      "metadata": {
        "id": "XsC8NEfms3lb"
      }
    },
    {
      "cell_type": "code",
      "source": [
        "a = 5\n",
        "b = a\n",
        "b = 3\n",
        "\n",
        "print(a)\n",
        "print(b)"
      ],
      "metadata": {
        "colab": {
          "base_uri": "https://localhost:8080/"
        },
        "id": "53nRy-LVs0k1",
        "outputId": "d4b3d758-cd6e-4126-9a9a-7e4a1cfc7eb8"
      },
      "execution_count": 5,
      "outputs": [
        {
          "output_type": "stream",
          "name": "stdout",
          "text": [
            "5\n",
            "3\n"
          ]
        }
      ]
    },
    {
      "cell_type": "code",
      "source": [
        "a = [1,3,5,4,2]\n",
        "b = a\n",
        "\n",
        "b[1] = 10 # 주소를 공유하는 듯/메모리 문제.\n",
        "\n",
        "print(b)\n",
        "print(a)"
      ],
      "metadata": {
        "colab": {
          "base_uri": "https://localhost:8080/"
        },
        "id": "eY0UfbXzs-vQ",
        "outputId": "1ad31f17-dc60-4d9d-df28-cc2f7d7202e0"
      },
      "execution_count": 6,
      "outputs": [
        {
          "output_type": "stream",
          "name": "stdout",
          "text": [
            "[1, 10, 5, 4, 2]\n",
            "[1, 10, 5, 4, 2]\n"
          ]
        }
      ]
    },
    {
      "cell_type": "markdown",
      "source": [
        "* 서로 동일한 변수인지 확인하는 방법."
      ],
      "metadata": {
        "id": "QGalm6gXtVfF"
      }
    },
    {
      "cell_type": "code",
      "source": [
        "a = [1,3,5,4,2]\n",
        "b = a\n",
        "\n",
        "print(a is b)"
      ],
      "metadata": {
        "colab": {
          "base_uri": "https://localhost:8080/"
        },
        "id": "NOC-vPb_tIRh",
        "outputId": "25087aaa-d07d-4265-8682-7246c4cde02c"
      },
      "execution_count": 7,
      "outputs": [
        {
          "output_type": "stream",
          "name": "stdout",
          "text": [
            "True\n"
          ]
        }
      ]
    },
    {
      "cell_type": "code",
      "source": [
        "a = [1,3,5,4,2]\n",
        "b = [1,3,5,4,2]\n",
        "\n",
        "print(a is b)"
      ],
      "metadata": {
        "colab": {
          "base_uri": "https://localhost:8080/"
        },
        "id": "zJvzi0_6tdDz",
        "outputId": "5b64ccb8-c1b6-46c7-830e-5cafbc670547"
      },
      "execution_count": 8,
      "outputs": [
        {
          "output_type": "stream",
          "name": "stdout",
          "text": [
            "False\n"
          ]
        }
      ]
    },
    {
      "cell_type": "markdown",
      "source": [
        "* 변수를 복사하는 방법."
      ],
      "metadata": {
        "id": "pwX3W3rOt5wI"
      }
    },
    {
      "cell_type": "code",
      "source": [
        "a = [1,3,5,4,2]\n",
        "b = a[:]\n",
        "\n",
        "b[1] = 10\n",
        "\n",
        "print(a)\n",
        "print(b)"
      ],
      "metadata": {
        "colab": {
          "base_uri": "https://localhost:8080/"
        },
        "id": "1AJpwKfmtiQv",
        "outputId": "60bd8f5f-213a-44fc-a333-98323b9ee757"
      },
      "execution_count": 9,
      "outputs": [
        {
          "output_type": "stream",
          "name": "stdout",
          "text": [
            "[1, 3, 5, 4, 2]\n",
            "[1, 10, 5, 4, 2]\n"
          ]
        }
      ]
    },
    {
      "cell_type": "code",
      "source": [
        "from copy import copy\n",
        "\n",
        "a = [1,3,5,4,2]\n",
        "b = copy(a)\n",
        "b[1] = 10\n",
        "\n",
        "print(b)\n",
        "print(a)"
      ],
      "metadata": {
        "colab": {
          "base_uri": "https://localhost:8080/"
        },
        "id": "g-nBtoHetopQ",
        "outputId": "3a265e93-f78c-4de7-c39d-32201df4ad9d"
      },
      "execution_count": 12,
      "outputs": [
        {
          "output_type": "stream",
          "name": "stdout",
          "text": [
            "[1, 10, 5, 4, 2]\n",
            "[1, 3, 5, 4, 2]\n"
          ]
        }
      ]
    },
    {
      "cell_type": "markdown",
      "source": [
        "* 변수를 교환하는 방법."
      ],
      "metadata": {
        "id": "3q96803yt9BT"
      }
    },
    {
      "cell_type": "code",
      "source": [
        "a = 3\n",
        "b = 5\n",
        "\n",
        "c = a\n",
        "a = b\n",
        "b = c\n",
        "\n",
        "print(a)\n",
        "print(b)"
      ],
      "metadata": {
        "colab": {
          "base_uri": "https://localhost:8080/"
        },
        "id": "Y-nNep4KtzTr",
        "outputId": "44fc7d84-641b-4fac-e967-0e281c166e11"
      },
      "execution_count": 13,
      "outputs": [
        {
          "output_type": "stream",
          "name": "stdout",
          "text": [
            "5\n",
            "3\n"
          ]
        }
      ]
    },
    {
      "cell_type": "markdown",
      "source": [
        "* 변수 교환(파이썬 장점)"
      ],
      "metadata": {
        "id": "kUwdSZtbuLsF"
      }
    },
    {
      "cell_type": "code",
      "source": [
        "a = 3\n",
        "b = 5\n",
        "\n",
        "a, b = b, a\n",
        "\n",
        "print(a)\n",
        "print(b)"
      ],
      "metadata": {
        "colab": {
          "base_uri": "https://localhost:8080/"
        },
        "id": "hFaA0FBEuILH",
        "outputId": "54a39984-2c22-49cf-95ea-af6a10b27edf"
      },
      "execution_count": 14,
      "outputs": [
        {
          "output_type": "stream",
          "name": "stdout",
          "text": [
            "5\n",
            "3\n"
          ]
        }
      ]
    },
    {
      "cell_type": "code",
      "source": [],
      "metadata": {
        "id": "Sh6GtFAVuWNB"
      },
      "execution_count": null,
      "outputs": []
    }
  ]
}