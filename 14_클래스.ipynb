{
  "nbformat": 4,
  "nbformat_minor": 0,
  "metadata": {
    "colab": {
      "provenance": [],
      "authorship_tag": "ABX9TyPYENiXbcXZAlzC0AMRR9zk",
      "include_colab_link": true
    },
    "kernelspec": {
      "name": "python3",
      "display_name": "Python 3"
    },
    "language_info": {
      "name": "python"
    }
  },
  "cells": [
    {
      "cell_type": "markdown",
      "metadata": {
        "id": "view-in-github",
        "colab_type": "text"
      },
      "source": [
        "<a href=\"https://colab.research.google.com/github/com0040/python-and-data-anlysis-basic/blob/main/14_%ED%81%B4%EB%9E%98%EC%8A%A4.ipynb\" target=\"_parent\"><img src=\"https://colab.research.google.com/assets/colab-badge.svg\" alt=\"Open In Colab\"/></a>"
      ]
    },
    {
      "cell_type": "markdown",
      "source": [
        "여러 개의 객체를 만들어 내는 기능\n",
        "* 클래스\n",
        "1. 비유하면 붕어빵을 만들어 낼 수 있는 틀\n",
        "2. 함수와 변수들을 모아놓는 주머니 "
      ],
      "metadata": {
        "id": "mKT9tWg3_hdG"
      }
    },
    {
      "cell_type": "markdown",
      "source": [
        "```\n",
        "class 클래스 명:\n",
        "    def 함수명1(self, 매개변수):\n",
        "    ...\n",
        "\n",
        "    def 함수명2(self, 매개변수):\n",
        "    ...\n",
        "```"
      ],
      "metadata": {
        "id": "J9qaK0Mv_zqj"
      }
    },
    {
      "cell_type": "markdown",
      "source": [
        "객체 = 클래스()\n",
        "\n",
        "객체.함수명(매개변수)"
      ],
      "metadata": {
        "id": "R8jkmUDbAQpL"
      }
    },
    {
      "cell_type": "markdown",
      "source": [
        "* 클래스 초기화 함수\n",
        "```\n",
        "class 클래스명:\n",
        "    def 함수명(self,매개변수):\n",
        "        ...\n",
        "    \n",
        "    # 객체가 생성될 때 자동으로 한번 실행되는 함수 ⏬\n",
        "    def __init__(self):\n",
        "        ...\n",
        "```"
      ],
      "metadata": {
        "id": "z-4Zxq_yAWpQ"
      }
    },
    {
      "cell_type": "markdown",
      "source": [
        "* 상속\n",
        "```\n",
        "class 클래스명1:\n",
        "    def 함수명(self,매개변수..):\n",
        "        ...\n",
        "# 클래스명2는 클래스명1에서 제공하는 모든 함수와 변수를 사용할 수 있음.\n",
        "class 클래스명2:\n",
        "    ...\n",
        "```"
      ],
      "metadata": {
        "id": "2Sol-FZxAvh6"
      }
    },
    {
      "cell_type": "code",
      "execution_count": 1,
      "metadata": {
        "colab": {
          "base_uri": "https://localhost:8080/"
        },
        "id": "xo8WkDzf5x3l",
        "outputId": "4147fc4b-0364-4807-b09a-b56458d864ad"
      },
      "outputs": [
        {
          "output_type": "stream",
          "name": "stdout",
          "text": [
            "가입을 축하합니다\n",
            "20000\n"
          ]
        }
      ],
      "source": [
        "'''\n",
        "수업때 진행했던 Bank( ) 클래스에서 금액을 출금하는 기능도 추가해서 사용해보세요. \n",
        "'''\n",
        "class Bank:\n",
        "    \n",
        "    def __init__(self):\n",
        "        print('가입을 축하합니다')\n",
        "        self.money = 0\n",
        "    \n",
        "    def deposit(self, a):\n",
        "        self.money += a\n",
        "    \n",
        "    def withdraw(self, a):\n",
        "        self.money -= a\n",
        "\n",
        "person = Bank()\n",
        "person.deposit(50000)\n",
        "person.withdraw(30000)\n",
        "print(person.money)"
      ]
    },
    {
      "cell_type": "code",
      "source": [
        "|"
      ],
      "metadata": {
        "id": "WuQXauPcBL64"
      },
      "execution_count": null,
      "outputs": []
    }
  ]
}