{
  "nbformat": 4,
  "nbformat_minor": 0,
  "metadata": {
    "colab": {
      "provenance": [],
      "collapsed_sections": [],
      "authorship_tag": "ABX9TyO4BYtxNgnw6NTOAqYvY0Yy",
      "include_colab_link": true
    },
    "kernelspec": {
      "name": "python3",
      "display_name": "Python 3"
    },
    "language_info": {
      "name": "python"
    }
  },
  "cells": [
    {
      "cell_type": "markdown",
      "metadata": {
        "id": "view-in-github",
        "colab_type": "text"
      },
      "source": [
        "<a href=\"https://colab.research.google.com/github/com0040/python-and-data-anlysis-basic/blob/main/4_%EB%A6%AC%EC%8A%A4%ED%8A%B8_%EC%9E%90%EB%A3%8C%ED%98%95%09.ipynb\" target=\"_parent\"><img src=\"https://colab.research.google.com/assets/colab-badge.svg\" alt=\"Open In Colab\"/></a>"
      ]
    },
    {
      "cell_type": "markdown",
      "source": [
        "* 리스트 자료형"
      ],
      "metadata": {
        "id": "T-1ZYIG7W-fM"
      }
    },
    {
      "cell_type": "code",
      "execution_count": null,
      "metadata": {
        "id": "Oy2-175eTkUl"
      },
      "outputs": [],
      "source": [
        "a = []\n",
        "b = ['text1','text2']\n",
        "c = [1,3,5,'text1','text2']\n",
        "d = [1,2,3,[4,5]]"
      ]
    },
    {
      "cell_type": "markdown",
      "source": [
        "* 리스트 인덱싱 "
      ],
      "metadata": {
        "id": "MPhXYRuIXCQe"
      }
    },
    {
      "cell_type": "code",
      "source": [
        "list1 =[1,3,5,4,2]\n",
        "print(list1[0])\n",
        "print(list1[-1])"
      ],
      "metadata": {
        "colab": {
          "base_uri": "https://localhost:8080/"
        },
        "id": "tDJpQVA0WagE",
        "outputId": "6dbaedac-f64b-4085-84f1-0eaf9d1444c4"
      },
      "execution_count": null,
      "outputs": [
        {
          "output_type": "stream",
          "name": "stdout",
          "text": [
            "1\n",
            "2\n"
          ]
        }
      ]
    },
    {
      "cell_type": "markdown",
      "source": [
        "* 리스트 덧셈 "
      ],
      "metadata": {
        "id": "pzm0MIz-XHBk"
      }
    },
    {
      "cell_type": "code",
      "source": [
        "a = [1,2,3]\n",
        "b = [4,5,6]\n",
        "print(a+b) # 뺄셈은 불가하다다"
      ],
      "metadata": {
        "colab": {
          "base_uri": "https://localhost:8080/"
        },
        "id": "7i8ukQI8Wqxz",
        "outputId": "8910dc21-17ce-4b49-8657-35a745b241d6"
      },
      "execution_count": null,
      "outputs": [
        {
          "output_type": "stream",
          "name": "stdout",
          "text": [
            "[1, 2, 3, 4, 5, 6]\n"
          ]
        }
      ]
    },
    {
      "cell_type": "markdown",
      "source": [
        "* 리스트 곱셈 "
      ],
      "metadata": {
        "id": "5VvPzu9-XItg"
      }
    },
    {
      "cell_type": "markdown",
      "source": [],
      "metadata": {
        "id": "FPCIpgwzXKc-"
      }
    },
    {
      "cell_type": "code",
      "source": [
        "list1 = [1,2,3]\n",
        "print(list1*3)"
      ],
      "metadata": {
        "colab": {
          "base_uri": "https://localhost:8080/"
        },
        "id": "MDChalGyWyg3",
        "outputId": "42cdf461-5b56-40af-d3db-f4725538bb54"
      },
      "execution_count": null,
      "outputs": [
        {
          "output_type": "stream",
          "name": "stdout",
          "text": [
            "[1, 2, 3, 1, 2, 3, 1, 2, 3]\n"
          ]
        }
      ]
    },
    {
      "cell_type": "markdown",
      "source": [
        "* 리스트 길이 구하기 "
      ],
      "metadata": {
        "id": "SFuxM6IZXMC1"
      }
    },
    {
      "cell_type": "code",
      "source": [
        "list1 = [1,2,3]\n",
        "print(len(list1))"
      ],
      "metadata": {
        "colab": {
          "base_uri": "https://localhost:8080/"
        },
        "id": "KTWpRK6zW6wY",
        "outputId": "d2d7ab0e-4596-4eff-c602-d7f32068af93"
      },
      "execution_count": null,
      "outputs": [
        {
          "output_type": "stream",
          "name": "stdout",
          "text": [
            "3\n"
          ]
        }
      ]
    },
    {
      "cell_type": "markdown",
      "source": [
        "* 리스트 값 변경하기 "
      ],
      "metadata": {
        "id": "DE_9xyB7XbnK"
      }
    },
    {
      "cell_type": "code",
      "source": [
        "list1 = [1,3,5,4,2]\n",
        "list1[1] = 10\n",
        "print(list1)"
      ],
      "metadata": {
        "colab": {
          "base_uri": "https://localhost:8080/"
        },
        "id": "xgTJJpRdXaTu",
        "outputId": "04bf3500-9da6-4d96-f7c2-d13441a34342"
      },
      "execution_count": null,
      "outputs": [
        {
          "output_type": "stream",
          "name": "stdout",
          "text": [
            "[1, 10, 5, 4, 2]\n"
          ]
        }
      ]
    },
    {
      "cell_type": "markdown",
      "source": [
        "* 리스트 값 삭제하기"
      ],
      "metadata": {
        "id": "D71WkloNZm4j"
      }
    },
    {
      "cell_type": "code",
      "source": [
        "list1 = [1,3,5,4,2]\n",
        "del list1[1]\n",
        "print(list1)"
      ],
      "metadata": {
        "id": "76ZhEb_LXmIi",
        "colab": {
          "base_uri": "https://localhost:8080/"
        },
        "outputId": "6559c921-5f9b-4d5d-e839-b5d666c84e46"
      },
      "execution_count": null,
      "outputs": [
        {
          "output_type": "stream",
          "name": "stdout",
          "text": [
            "[1, 5, 4, 2]\n"
          ]
        }
      ]
    },
    {
      "cell_type": "code",
      "source": [
        "list1 = [1,3,5,4,2]\n",
        "del list1[2:]\n",
        "print(list1)"
      ],
      "metadata": {
        "colab": {
          "base_uri": "https://localhost:8080/"
        },
        "id": "n6JfTFE7Z1SZ",
        "outputId": "b4aa6015-13b6-4d73-8437-1432144c0448"
      },
      "execution_count": null,
      "outputs": [
        {
          "output_type": "stream",
          "name": "stdout",
          "text": [
            "[1, 3]\n"
          ]
        }
      ]
    },
    {
      "cell_type": "markdown",
      "source": [
        "* 리스트 전용함수 : append"
      ],
      "metadata": {
        "id": "8aDClNv-aAbC"
      }
    },
    {
      "cell_type": "code",
      "source": [
        "list1 = [1,3,5,4,2]\n",
        "list1.append(7)\n",
        "print(list1)"
      ],
      "metadata": {
        "colab": {
          "base_uri": "https://localhost:8080/"
        },
        "id": "rUHPfJQlZ8aY",
        "outputId": "e7be5a84-181c-4258-a23b-4a040d568c58"
      },
      "execution_count": null,
      "outputs": [
        {
          "output_type": "stream",
          "name": "stdout",
          "text": [
            "[1, 3, 5, 4, 2, 7]\n"
          ]
        }
      ]
    },
    {
      "cell_type": "markdown",
      "source": [
        "* 리스트 전용함수 : sort"
      ],
      "metadata": {
        "id": "dhQo1qTgadVZ"
      }
    },
    {
      "cell_type": "code",
      "source": [
        "list1 = [1,3,5,4,2]\n",
        "list1.sort()\n",
        "print(list1)"
      ],
      "metadata": {
        "colab": {
          "base_uri": "https://localhost:8080/"
        },
        "id": "Nc_QIhPmaOIX",
        "outputId": "e7b81bc3-5e62-4c26-d86d-51ab57ab849e"
      },
      "execution_count": null,
      "outputs": [
        {
          "output_type": "stream",
          "name": "stdout",
          "text": [
            "[1, 2, 3, 4, 5]\n"
          ]
        }
      ]
    },
    {
      "cell_type": "code",
      "source": [
        "list1 = [1,3,5,4,2]\n",
        "list1.sort(reverse = True)\n",
        "print(list1)"
      ],
      "metadata": {
        "colab": {
          "base_uri": "https://localhost:8080/"
        },
        "id": "SyML7x3wakWD",
        "outputId": "5b0dd06f-5934-4a2e-c2c0-06cf4727030f"
      },
      "execution_count": null,
      "outputs": [
        {
          "output_type": "stream",
          "name": "stdout",
          "text": [
            "[5, 4, 3, 2, 1]\n"
          ]
        }
      ]
    },
    {
      "cell_type": "code",
      "source": [
        "list1 = ['car', 'apple', 'banna']\n",
        "list1.sort()\n",
        "print(list1)"
      ],
      "metadata": {
        "colab": {
          "base_uri": "https://localhost:8080/"
        },
        "id": "B_YrJjcKasUL",
        "outputId": "d3a2adce-c901-4dbf-9af7-9b7b87276d48"
      },
      "execution_count": null,
      "outputs": [
        {
          "output_type": "stream",
          "name": "stdout",
          "text": [
            "['apple', 'banna', 'car']\n"
          ]
        }
      ]
    },
    {
      "cell_type": "markdown",
      "source": [
        "* 리스트 전용함수 : reverse"
      ],
      "metadata": {
        "id": "4w5SvXrIbHQt"
      }
    },
    {
      "cell_type": "code",
      "source": [
        "list1 = ['car', 'apple', 'banna'] # 지금있는는 순서를 뒤집는다\n",
        "list1.reverse()\n",
        "print(list1)"
      ],
      "metadata": {
        "colab": {
          "base_uri": "https://localhost:8080/"
        },
        "id": "e-q66LBia4IH",
        "outputId": "13f66f0e-8cb5-406b-c992-1efc3839d391"
      },
      "execution_count": null,
      "outputs": [
        {
          "output_type": "stream",
          "name": "stdout",
          "text": [
            "['banna', 'apple', 'car']\n"
          ]
        }
      ]
    },
    {
      "cell_type": "markdown",
      "source": [
        "* 리스트 전용함수 : index"
      ],
      "metadata": {
        "id": "EJEBLLDfbUhW"
      }
    },
    {
      "cell_type": "code",
      "source": [
        "list1 = ['car', 'apple', 'banna'] \n",
        "print(list1.index('apple')) # apple의 인덱스를 찾아준다"
      ],
      "metadata": {
        "colab": {
          "base_uri": "https://localhost:8080/"
        },
        "id": "u12sfpHNbOkd",
        "outputId": "581fdf00-17a9-48da-9bea-f54877bcd784"
      },
      "execution_count": null,
      "outputs": [
        {
          "output_type": "stream",
          "name": "stdout",
          "text": [
            "1\n"
          ]
        }
      ]
    },
    {
      "cell_type": "markdown",
      "source": [
        "* 리스트 전용함수 : insert"
      ],
      "metadata": {
        "id": "cd76qrVdbi28"
      }
    },
    {
      "cell_type": "code",
      "source": [
        "list1 = [1,3,5,4,2]\n",
        "list1.insert(1,7) # index 1 에 7을 넣어라\n",
        "print(list1)"
      ],
      "metadata": {
        "colab": {
          "base_uri": "https://localhost:8080/"
        },
        "id": "VQLYVc_VbdQw",
        "outputId": "105ac3ef-ee43-4354-f3bb-52bef0c1dbb6"
      },
      "execution_count": null,
      "outputs": [
        {
          "output_type": "stream",
          "name": "stdout",
          "text": [
            "[1, 7, 3, 5, 4, 2]\n"
          ]
        }
      ]
    },
    {
      "cell_type": "markdown",
      "source": [
        "* 리스트 전용함수 : remove"
      ],
      "metadata": {
        "id": "iwhKJP5mb7aX"
      }
    },
    {
      "cell_type": "code",
      "source": [
        "list1 = [1,3,5,4,2]\n",
        "list1.remove(5) # 가장 먼저 발견한 5를 제거해라 / 기록남지않음음\n",
        "print(list1)"
      ],
      "metadata": {
        "colab": {
          "base_uri": "https://localhost:8080/"
        },
        "id": "34-Ekzqvby9x",
        "outputId": "6b1579c3-e4cd-4dbd-9779-a81343ee7fac"
      },
      "execution_count": null,
      "outputs": [
        {
          "output_type": "stream",
          "name": "stdout",
          "text": [
            "[1, 3, 4, 2]\n"
          ]
        }
      ]
    },
    {
      "cell_type": "markdown",
      "source": [
        "* 리스트 전용함수 : pop"
      ],
      "metadata": {
        "id": "CLOmTDwkcHpk"
      }
    },
    {
      "cell_type": "code",
      "source": [
        "list1 = [1,3,5,4,2]\n",
        "a= list1.pop() # 맨뒤 인덱스의 값을 빼서 a에 저장하시오\n",
        "print(list1)\n",
        "print(a)"
      ],
      "metadata": {
        "colab": {
          "base_uri": "https://localhost:8080/"
        },
        "id": "lhgB1qRScu6m",
        "outputId": "2592b064-6e68-4ba3-881b-acbb296e3d00"
      },
      "execution_count": null,
      "outputs": [
        {
          "output_type": "stream",
          "name": "stdout",
          "text": [
            "[1, 3, 5, 4]\n",
            "2\n"
          ]
        }
      ]
    },
    {
      "cell_type": "code",
      "source": [
        "list1 = [1,3,5,4,2]\n",
        "a= list1.pop(0) # 0번째 인덱스의 값을 빼서 a에 저장하시오\n",
        "print(list1)\n",
        "print(a)"
      ],
      "metadata": {
        "colab": {
          "base_uri": "https://localhost:8080/"
        },
        "id": "hokDCPvncB4x",
        "outputId": "3fcedc04-7219-49ed-8dc2-2e2ee342c2ab"
      },
      "execution_count": null,
      "outputs": [
        {
          "output_type": "stream",
          "name": "stdout",
          "text": [
            "[3, 5, 4, 2]\n",
            "1\n"
          ]
        }
      ]
    },
    {
      "cell_type": "markdown",
      "source": [
        "* 리스트 전용함수 : count"
      ],
      "metadata": {
        "id": "LslCfnsXc0nh"
      }
    },
    {
      "cell_type": "code",
      "source": [
        "list1 = [1,3,5,4,2,2,2]\n",
        "print(list1.count(2)) # 리스트에서 2의 갯수를 세시오오"
      ],
      "metadata": {
        "colab": {
          "base_uri": "https://localhost:8080/"
        },
        "id": "_nJvH4mecdOn",
        "outputId": "20ffb628-ed2e-47d8-f544-33fd126ccba6"
      },
      "execution_count": null,
      "outputs": [
        {
          "output_type": "stream",
          "name": "stdout",
          "text": [
            "3\n"
          ]
        }
      ]
    },
    {
      "cell_type": "markdown",
      "source": [
        "* 리스트 전용함수 : extend"
      ],
      "metadata": {
        "id": "oI9peKcXdIyx"
      }
    },
    {
      "cell_type": "code",
      "source": [
        "list1 = [1,3,5,4,2,2,2]\n",
        "list1.extend([1,1,1]) # append 와 다르게 여러 개를 한 번에 더함\n",
        "print(list1)"
      ],
      "metadata": {
        "colab": {
          "base_uri": "https://localhost:8080/"
        },
        "id": "eo9bgFQgc_mX",
        "outputId": "1ea12a5b-8415-4c08-ec1c-1449d3134451"
      },
      "execution_count": null,
      "outputs": [
        {
          "output_type": "stream",
          "name": "stdout",
          "text": [
            "[1, 3, 5, 4, 2, 2, 2, 1, 1, 1]\n"
          ]
        }
      ]
    },
    {
      "cell_type": "code",
      "source": [],
      "metadata": {
        "id": "W-Q7wLgQdWgg"
      },
      "execution_count": null,
      "outputs": []
    }
  ]
}