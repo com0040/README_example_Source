{
  "nbformat": 4,
  "nbformat_minor": 0,
  "metadata": {
    "colab": {
      "provenance": [],
      "authorship_tag": "ABX9TyMnscbri+L/NBGqYRrhJ4VY",
      "include_colab_link": true
    },
    "kernelspec": {
      "name": "python3",
      "display_name": "Python 3"
    },
    "language_info": {
      "name": "python"
    }
  },
  "cells": [
    {
      "cell_type": "markdown",
      "metadata": {
        "id": "view-in-github",
        "colab_type": "text"
      },
      "source": [
        "<a href=\"https://colab.research.google.com/github/com0040/python-and-data-anlysis-basic/blob/main/8_%EB%B6%88_%EC%9E%90%EB%A3%8C%ED%98%95.ipynb\" target=\"_parent\"><img src=\"https://colab.research.google.com/assets/colab-badge.svg\" alt=\"Open In Colab\"/></a>"
      ]
    },
    {
      "cell_type": "markdown",
      "source": [
        "* 불 자료형 : 참과 거짓을 나타내는 자료형."
      ],
      "metadata": {
        "id": "fTT1JeLfqMBG"
      }
    },
    {
      "cell_type": "code",
      "execution_count": 1,
      "metadata": {
        "colab": {
          "base_uri": "https://localhost:8080/"
        },
        "id": "8IvFy5mkqAW9",
        "outputId": "4f2624a5-e4cf-4fa3-8040-cd9f6d85a65c"
      },
      "outputs": [
        {
          "output_type": "stream",
          "name": "stdout",
          "text": [
            "True\n",
            "False\n"
          ]
        }
      ],
      "source": [
        "a = True\n",
        "print(a)\n",
        "\n",
        "b = False\n",
        "print(b)"
      ]
    },
    {
      "cell_type": "code",
      "source": [
        "print(type(True))\n",
        "print(type(False))\n",
        "print(type([1,3,5,4,2]))"
      ],
      "metadata": {
        "colab": {
          "base_uri": "https://localhost:8080/"
        },
        "id": "c_lFakahqZC7",
        "outputId": "6f70dfa1-6aa5-4855-9546-aafb9a990a6c"
      },
      "execution_count": 3,
      "outputs": [
        {
          "output_type": "stream",
          "name": "stdout",
          "text": [
            "<class 'bool'>\n",
            "<class 'bool'>\n",
            "<class 'list'>\n"
          ]
        }
      ]
    },
    {
      "cell_type": "code",
      "source": [
        "print(5 > 3)\n",
        "print(3 > 5)"
      ],
      "metadata": {
        "colab": {
          "base_uri": "https://localhost:8080/"
        },
        "id": "UDpkTPaaqhvO",
        "outputId": "5bb580cf-cd00-42ef-dea5-baae9a43d66f"
      },
      "execution_count": 4,
      "outputs": [
        {
          "output_type": "stream",
          "name": "stdout",
          "text": [
            "True\n",
            "False\n"
          ]
        }
      ]
    },
    {
      "cell_type": "markdown",
      "source": [
        "비어있으면 거짓, 비어있지 않으면 참."
      ],
      "metadata": {
        "id": "RmaH-C8Oqzjg"
      }
    },
    {
      "cell_type": "code",
      "source": [
        "print(bool(5))\n",
        "print(bool(0))"
      ],
      "metadata": {
        "colab": {
          "base_uri": "https://localhost:8080/"
        },
        "id": "Tg15odSwqvlh",
        "outputId": "aa4e10ac-d2ef-4510-8f3f-204c3f9671d5"
      },
      "execution_count": 5,
      "outputs": [
        {
          "output_type": "stream",
          "name": "stdout",
          "text": [
            "True\n",
            "False\n"
          ]
        }
      ]
    },
    {
      "cell_type": "code",
      "source": [
        "print(bool([]))\n",
        "print(bool([1,3,5,4,2]))"
      ],
      "metadata": {
        "colab": {
          "base_uri": "https://localhost:8080/"
        },
        "id": "TQqt6Z0oq6bM",
        "outputId": "56f2a541-dfb4-488e-cb41-6163f1e5803b"
      },
      "execution_count": 6,
      "outputs": [
        {
          "output_type": "stream",
          "name": "stdout",
          "text": [
            "False\n",
            "True\n"
          ]
        }
      ]
    },
    {
      "cell_type": "code",
      "source": [
        "print(bool(\"\"))\n",
        "print(bool('python'))"
      ],
      "metadata": {
        "colab": {
          "base_uri": "https://localhost:8080/"
        },
        "id": "afJQhirTrCAg",
        "outputId": "2c049a42-5c93-4939-bf70-25f366ebe0d0"
      },
      "execution_count": 7,
      "outputs": [
        {
          "output_type": "stream",
          "name": "stdout",
          "text": [
            "False\n",
            "True\n"
          ]
        }
      ]
    },
    {
      "cell_type": "code",
      "source": [
        "print(bool(()))\n",
        "print(bool((1,3,5,4,2)))"
      ],
      "metadata": {
        "colab": {
          "base_uri": "https://localhost:8080/"
        },
        "id": "KLvsSB2lrJmQ",
        "outputId": "8e3b9e98-1b63-4177-c3dc-ebf4cb0b7f8c"
      },
      "execution_count": 9,
      "outputs": [
        {
          "output_type": "stream",
          "name": "stdout",
          "text": [
            "False\n",
            "True\n"
          ]
        }
      ]
    },
    {
      "cell_type": "markdown",
      "source": [
        "* 불 자료형 사용 예시\n",
        "\n",
        "```\n",
        "while 조건문:\n",
        "    수행할 문장1\n",
        "    수행할 문장2\n",
        "    ..\n",
        "```\n",
        "```\n",
        "if 조건:\n",
        "    수행할 코드1\n",
        "else:\n",
        "    수행할 코드2\n",
        "```\n",
        "```\n",
        "if [1,2,3]:\n",
        "    수행할 코드1\n",
        "else:\n",
        "    수행할 코드2\n",
        "```\n",
        "```\n",
        "if []:\n",
        "    수행할 코드1\n",
        "else:\n",
        "    수행할 코드2\n",
        "```"
      ],
      "metadata": {
        "id": "xuCg-isRrUPN"
      }
    },
    {
      "cell_type": "code",
      "source": [],
      "metadata": {
        "id": "e9VogqbLrPbJ"
      },
      "execution_count": null,
      "outputs": []
    }
  ]
}