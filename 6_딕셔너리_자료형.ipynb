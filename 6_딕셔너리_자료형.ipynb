{
  "nbformat": 4,
  "nbformat_minor": 0,
  "metadata": {
    "colab": {
      "provenance": [],
      "authorship_tag": "ABX9TyM9tULsLnJooufsdWcpU/XV",
      "include_colab_link": true
    },
    "kernelspec": {
      "name": "python3",
      "display_name": "Python 3"
    },
    "language_info": {
      "name": "python"
    }
  },
  "cells": [
    {
      "cell_type": "markdown",
      "metadata": {
        "id": "view-in-github",
        "colab_type": "text"
      },
      "source": [
        "<a href=\"https://colab.research.google.com/github/com0040/python-and-data-anlysis-basic/blob/main/6_%EB%94%95%EC%85%94%EB%84%88%EB%A6%AC_%EC%9E%90%EB%A3%8C%ED%98%95.ipynb\" target=\"_parent\"><img src=\"https://colab.research.google.com/assets/colab-badge.svg\" alt=\"Open In Colab\"/></a>"
      ]
    },
    {
      "cell_type": "markdown",
      "source": [
        "대응 관계를 나타낼 수 있는 자료형"
      ],
      "metadata": {
        "id": "JlTLn7-Ci-bM"
      }
    },
    {
      "cell_type": "markdown",
      "source": [
        "* 딕셔너리 자료형 "
      ],
      "metadata": {
        "id": "hhGLtTOMjRZq"
      }
    },
    {
      "cell_type": "code",
      "execution_count": 1,
      "metadata": {
        "colab": {
          "base_uri": "https://localhost:8080/"
        },
        "id": "sMlcevM9ir8X",
        "outputId": "5d183857-3a8c-47d4-ee4d-4e3e1b3c1ac1"
      },
      "outputs": [
        {
          "output_type": "stream",
          "name": "stdout",
          "text": [
            "{'이름': '홍길동', '성별': '남자', '나이': 30}\n"
          ]
        }
      ],
      "source": [
        "dic = {'이름':'홍길동','성별':'남자','나이':30}\n",
        "print(dic)"
      ]
    },
    {
      "cell_type": "markdown",
      "source": [
        "1. 딕셔너리는 무조건 Key값 기준으로 판단하고, 수행한다.\n",
        "2. 딕셔너리는 집합 형태로 구성되어 있어, 순서가 없다.\n",
        "3. Key값으로 리스트를 쓸 수 없다.\n",
        "4. 중복된 Key값은 존재할 수 없다.\n",
        "5. Key값으로 튜플은 가능하다."
      ],
      "metadata": {
        "id": "I1FlUe37jphE"
      }
    },
    {
      "cell_type": "markdown",
      "source": [
        "* 딕셔너리에 값 추가하기"
      ],
      "metadata": {
        "id": "jDbRi-NOkReR"
      }
    },
    {
      "cell_type": "code",
      "source": [
        "dic = {'이름':'홍길동','성별':'남자','나이':30}\n",
        "dic['사는곳'] = '수원'\n",
        "print(dic)"
      ],
      "metadata": {
        "colab": {
          "base_uri": "https://localhost:8080/"
        },
        "id": "vNbqdj1xjzI7",
        "outputId": "ed6b17fa-0094-42f2-cc63-aae568792c86"
      },
      "execution_count": 2,
      "outputs": [
        {
          "output_type": "stream",
          "name": "stdout",
          "text": [
            "{'이름': '홍길동', '성별': '남자', '나이': 30, '사는곳': '수원'}\n"
          ]
        }
      ]
    },
    {
      "cell_type": "markdown",
      "source": [
        "* 딕셔너리에 값이 있는지 확인하기"
      ],
      "metadata": {
        "id": "2ab8vkfQkbgb"
      }
    },
    {
      "cell_type": "code",
      "source": [
        "dic = {'이름':'홍길동','성별':'남자','나이':30}\n",
        "print('이름' in dic)\n",
        "print('홍길동' in dic)"
      ],
      "metadata": {
        "colab": {
          "base_uri": "https://localhost:8080/"
        },
        "id": "x_djY9_Hjf6J",
        "outputId": "1a1ee2d2-67cf-465c-f060-715281a780ed"
      },
      "execution_count": 3,
      "outputs": [
        {
          "output_type": "stream",
          "name": "stdout",
          "text": [
            "True\n",
            "False\n"
          ]
        }
      ]
    },
    {
      "cell_type": "markdown",
      "source": [
        "* 딕셔너리 값 삭제하기."
      ],
      "metadata": {
        "id": "N56TbhZ9kvw9"
      }
    },
    {
      "cell_type": "code",
      "source": [
        "dic = {'이름':'홍길동','성별':'남자','나이':30}\n",
        "del dic['나이']\n",
        "print(dic)"
      ],
      "metadata": {
        "colab": {
          "base_uri": "https://localhost:8080/"
        },
        "id": "8xG6GxwVkpxh",
        "outputId": "8df25dc9-cddd-449d-be82-3479a9e7121a"
      },
      "execution_count": 4,
      "outputs": [
        {
          "output_type": "stream",
          "name": "stdout",
          "text": [
            "{'이름': '홍길동', '성별': '남자'}\n"
          ]
        }
      ]
    },
    {
      "cell_type": "markdown",
      "source": [
        "* 딕셔너리 Key값에 접근하기."
      ],
      "metadata": {
        "id": "xr3gt1FPk1_p"
      }
    },
    {
      "cell_type": "code",
      "source": [
        "dic = {'이름':'홍길동','성별':'남자','나이':30}\n",
        "print(dic['이름'])"
      ],
      "metadata": {
        "colab": {
          "base_uri": "https://localhost:8080/"
        },
        "id": "VXf4UgdUk0A1",
        "outputId": "3260b3cf-560c-4b5e-c533-cca95ebc8119"
      },
      "execution_count": 6,
      "outputs": [
        {
          "output_type": "stream",
          "name": "stdout",
          "text": [
            "홍길동\n"
          ]
        }
      ]
    },
    {
      "cell_type": "markdown",
      "source": [
        "* 딕셔너리는 Key 값에만 접근 가능하다."
      ],
      "metadata": {
        "id": "NZvUFg6jk-tw"
      }
    },
    {
      "cell_type": "code",
      "source": [
        "dic = {'이름':'홍길동','성별':'남자','나이':30}\n",
        "print(dic['홍길동']) # 에러"
      ],
      "metadata": {
        "colab": {
          "base_uri": "https://localhost:8080/",
          "height": 192
        },
        "id": "MuOYQATHk8An",
        "outputId": "af8ecd37-a158-4660-934b-40ab0f55db6d"
      },
      "execution_count": 7,
      "outputs": [
        {
          "output_type": "error",
          "ename": "KeyError",
          "evalue": "ignored",
          "traceback": [
            "\u001b[0;31m---------------------------------------------------------------------------\u001b[0m",
            "\u001b[0;31mKeyError\u001b[0m                                  Traceback (most recent call last)",
            "\u001b[0;32m<ipython-input-7-3e9caad33005>\u001b[0m in \u001b[0;36m<module>\u001b[0;34m\u001b[0m\n\u001b[1;32m      1\u001b[0m \u001b[0mdic\u001b[0m \u001b[0;34m=\u001b[0m \u001b[0;34m{\u001b[0m\u001b[0;34m'이름'\u001b[0m\u001b[0;34m:\u001b[0m\u001b[0;34m'홍길동'\u001b[0m\u001b[0;34m,\u001b[0m\u001b[0;34m'성별'\u001b[0m\u001b[0;34m:\u001b[0m\u001b[0;34m'남자'\u001b[0m\u001b[0;34m,\u001b[0m\u001b[0;34m'나이'\u001b[0m\u001b[0;34m:\u001b[0m\u001b[0;36m30\u001b[0m\u001b[0;34m}\u001b[0m\u001b[0;34m\u001b[0m\u001b[0;34m\u001b[0m\u001b[0m\n\u001b[0;32m----> 2\u001b[0;31m \u001b[0mprint\u001b[0m\u001b[0;34m(\u001b[0m\u001b[0mdic\u001b[0m\u001b[0;34m[\u001b[0m\u001b[0;34m'홍길동'\u001b[0m\u001b[0;34m]\u001b[0m\u001b[0;34m)\u001b[0m\u001b[0;34m\u001b[0m\u001b[0;34m\u001b[0m\u001b[0m\n\u001b[0m",
            "\u001b[0;31mKeyError\u001b[0m: '홍길동'"
          ]
        }
      ]
    },
    {
      "cell_type": "markdown",
      "source": [
        "* 딕셔너리 값 변경하기."
      ],
      "metadata": {
        "id": "nITxAhKYlWDb"
      }
    },
    {
      "cell_type": "code",
      "source": [
        "dic = {'이름':'홍길동','성별':'남자','나이':30}\n",
        "dic['이름'] = '강동원'\n",
        "print(dic)"
      ],
      "metadata": {
        "colab": {
          "base_uri": "https://localhost:8080/"
        },
        "id": "ECpxzNl8lSf5",
        "outputId": "45e57fc2-d7ef-4d6f-d5c4-e1e5ad1a5668"
      },
      "execution_count": 8,
      "outputs": [
        {
          "output_type": "stream",
          "name": "stdout",
          "text": [
            "{'이름': '강동원', '성별': '남자', '나이': 30}\n"
          ]
        }
      ]
    },
    {
      "cell_type": "markdown",
      "source": [
        "* 딕셔너리는 중복된 Key값을 가질 수 없다."
      ],
      "metadata": {
        "id": "P1PoWybrlfnq"
      }
    },
    {
      "cell_type": "code",
      "source": [
        "dic = {'이름':'홍길동','이름':'강동원'} # 나중것으로 저장됨\n",
        "print(dic) "
      ],
      "metadata": {
        "colab": {
          "base_uri": "https://localhost:8080/"
        },
        "id": "Jxg5rB7Ulc8o",
        "outputId": "7a7ac94a-be82-4ba1-aef8-8b71e161e1c3"
      },
      "execution_count": 9,
      "outputs": [
        {
          "output_type": "stream",
          "name": "stdout",
          "text": [
            "{'이름': '강동원'}\n"
          ]
        }
      ]
    },
    {
      "cell_type": "markdown",
      "source": [
        "* 딕셔너리 전용 함수 : key()"
      ],
      "metadata": {
        "id": "d-oq81WdltBt"
      }
    },
    {
      "cell_type": "code",
      "source": [
        "dic = {'이름':'홍길동','성별':'남자','나이':30}\n",
        "print(dic.keys())\n",
        "print(list(dic.keys()))"
      ],
      "metadata": {
        "colab": {
          "base_uri": "https://localhost:8080/"
        },
        "id": "l1frrlAjlnDG",
        "outputId": "b2ffd5cb-da9d-43cf-f67e-1ddfdb4384f1"
      },
      "execution_count": 10,
      "outputs": [
        {
          "output_type": "stream",
          "name": "stdout",
          "text": [
            "dict_keys(['이름', '성별', '나이'])\n",
            "['이름', '성별', '나이']\n"
          ]
        }
      ]
    },
    {
      "cell_type": "markdown",
      "source": [
        "* 딕셔너리 전용 함수 : values()"
      ],
      "metadata": {
        "id": "EDz-_d3zmAXS"
      }
    },
    {
      "cell_type": "code",
      "source": [
        "dic = {'이름':'홍길동','성별':'남자','나이':30}\n",
        "print(dic.values())\n",
        "print(list(dic.values()))"
      ],
      "metadata": {
        "colab": {
          "base_uri": "https://localhost:8080/"
        },
        "id": "D_CBfYsEl6q9",
        "outputId": "e83c4299-9b3f-46e8-d870-98b46b4bd8f0"
      },
      "execution_count": 11,
      "outputs": [
        {
          "output_type": "stream",
          "name": "stdout",
          "text": [
            "dict_values(['홍길동', '남자', 30])\n",
            "['홍길동', '남자', 30]\n"
          ]
        }
      ]
    },
    {
      "cell_type": "markdown",
      "source": [
        "* 딕셔너리 전용 함수 : items()"
      ],
      "metadata": {
        "id": "rZJYuZWSmO34"
      }
    },
    {
      "cell_type": "code",
      "source": [
        "dic = {'이름':'홍길동','성별':'남자','나이':30}\n",
        "print(dic.items())\n",
        "print(list(dic.items()))"
      ],
      "metadata": {
        "colab": {
          "base_uri": "https://localhost:8080/"
        },
        "id": "TEHICy7umLVs",
        "outputId": "9c8e309e-3db5-4969-b175-a3a2d4bbf21e"
      },
      "execution_count": 12,
      "outputs": [
        {
          "output_type": "stream",
          "name": "stdout",
          "text": [
            "dict_items([('이름', '홍길동'), ('성별', '남자'), ('나이', 30)])\n",
            "[('이름', '홍길동'), ('성별', '남자'), ('나이', 30)]\n"
          ]
        }
      ]
    },
    {
      "cell_type": "code",
      "source": [
        "'''\n",
        "죠스바 1200원, 메로나 1500원, 월드컵 1800원\n",
        "\n",
        "1. 위의 아이스크림 정보를 아이스크림 이름은 Key값, 가격은 Value으로 하는 딕셔너리를 만드신 후, 변수 dic에 할당해보세요.\n",
        "2. 1에서 만든 변수 dic에 붕어싸만코 2000원에 대한 정보를 추가해보세요. (이름은 Key, 가격은 Value)\n",
        "3. 변수 dic에서 메로나에 대한 정보를 삭제해주세요.\n",
        "4. 변수 dic에서 죠스바의 가격을 1500원으로 변경해주세요.\n",
        "5. 변수 dic을 화면에 출력해보세요.\n",
        "6. 변수 dic의 Key값들만 모두 출력해주세요.\n",
        "7. 변수 dic의 Value값을만 모두 출력해주세요.\n",
        "'''\n",
        "\n",
        "dic = {'조스바':'1200원','메로나' : '1500원','월드컵':'1800원'}\n",
        "dic['붕어싸만코'] = '2000원'\n",
        "del dic['메로나']\n",
        "dic['조스바'] = '1500원'\n",
        "print(dic)\n",
        "\n",
        "print(dic.keys())\n",
        "print(list(dic.keys()))\n",
        "print(tuple(dic.keys()))\n",
        "\n",
        "print(dic.values())\n",
        "print(list(dic.values()))\n",
        "print(tuple(dic.values()))\n",
        "\n",
        "print(dic.items())\n",
        "print(list(dic.items()))\n",
        "print(tuple(dic.items()))"
      ],
      "metadata": {
        "colab": {
          "base_uri": "https://localhost:8080/"
        },
        "id": "5-QfhMnhmWBd",
        "outputId": "1e68ca56-3351-4376-f32d-9cee0cfbfa59"
      },
      "execution_count": 13,
      "outputs": [
        {
          "output_type": "stream",
          "name": "stdout",
          "text": [
            "{'조스바': '1500원', '월드컵': '1800원', '붕어싸만코': '2000원'}\n",
            "dict_keys(['조스바', '월드컵', '붕어싸만코'])\n",
            "['조스바', '월드컵', '붕어싸만코']\n",
            "('조스바', '월드컵', '붕어싸만코')\n",
            "dict_values(['1500원', '1800원', '2000원'])\n",
            "['1500원', '1800원', '2000원']\n",
            "('1500원', '1800원', '2000원')\n",
            "dict_items([('조스바', '1500원'), ('월드컵', '1800원'), ('붕어싸만코', '2000원')])\n",
            "[('조스바', '1500원'), ('월드컵', '1800원'), ('붕어싸만코', '2000원')]\n",
            "(('조스바', '1500원'), ('월드컵', '1800원'), ('붕어싸만코', '2000원'))\n"
          ]
        }
      ]
    },
    {
      "cell_type": "code",
      "source": [],
      "metadata": {
        "id": "Y7cLzah6mcWK"
      },
      "execution_count": null,
      "outputs": []
    }
  ]
}