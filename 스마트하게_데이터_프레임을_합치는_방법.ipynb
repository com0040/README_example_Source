{
  "nbformat": 4,
  "nbformat_minor": 0,
  "metadata": {
    "colab": {
      "provenance": [],
      "collapsed_sections": [],
      "authorship_tag": "ABX9TyN8TYjA8SGVA1lKPKCNBCq2",
      "include_colab_link": true
    },
    "kernelspec": {
      "name": "python3",
      "display_name": "Python 3"
    },
    "language_info": {
      "name": "python"
    }
  },
  "cells": [
    {
      "cell_type": "markdown",
      "metadata": {
        "id": "view-in-github",
        "colab_type": "text"
      },
      "source": [
        "<a href=\"https://colab.research.google.com/github/com0040/README_example_Source/blob/main/%EC%8A%A4%EB%A7%88%ED%8A%B8%ED%95%98%EA%B2%8C_%EB%8D%B0%EC%9D%B4%ED%84%B0_%ED%94%84%EB%A0%88%EC%9E%84%EC%9D%84_%ED%95%A9%EC%B9%98%EB%8A%94_%EB%B0%A9%EB%B2%95.ipynb\" target=\"_parent\"><img src=\"https://colab.research.google.com/assets/colab-badge.svg\" alt=\"Open In Colab\"/></a>"
      ]
    },
    {
      "cell_type": "code",
      "execution_count": 1,
      "metadata": {
        "id": "lxt6CGI_ZMN6"
      },
      "outputs": [],
      "source": [
        "import pandas as pd"
      ]
    },
    {
      "cell_type": "code",
      "source": [
        "# 날씨정보보\n",
        "person = pd.read_csv('servey_person.csv') # 측정인\n",
        "site = pd.read_csv('servey_site.csv') # 측정위치\n",
        "survey = pd.read_csv('servey_survey.csv') # 날씨정보\n",
        "visited = pd.read_csv('servey_visited.csv') # 언제방문"
      ],
      "metadata": {
        "id": "FVkfWBVyZR7G"
      },
      "execution_count": null,
      "outputs": []
    },
    {
      "cell_type": "code",
      "source": [
        "person"
      ],
      "metadata": {
        "id": "mMSbddEiZu5P"
      },
      "execution_count": null,
      "outputs": []
    },
    {
      "cell_type": "code",
      "source": [
        "site"
      ],
      "metadata": {
        "id": "fVvaNxjhZ-lb"
      },
      "execution_count": null,
      "outputs": []
    },
    {
      "cell_type": "code",
      "source": [
        "survey"
      ],
      "metadata": {
        "id": "Iqgak-LsZ_7e"
      },
      "execution_count": null,
      "outputs": []
    },
    {
      "cell_type": "code",
      "source": [
        "visited"
      ],
      "metadata": {
        "id": "LG1NFbWmaC0W"
      },
      "execution_count": null,
      "outputs": []
    },
    {
      "cell_type": "code",
      "source": [
        "merge1 = visited.merge(site, left_on = \"site\",right_on=\"name\")\n",
        "del merge1['name']\n",
        "merge1"
      ],
      "metadata": {
        "id": "68nRhUAlaGFk"
      },
      "execution_count": null,
      "outputs": []
    },
    {
      "cell_type": "code",
      "source": [
        "merge2 = survey.merge(person, left_on='person',right_on='ident')\n",
        "del merge2['name']\n",
        "merge2"
      ],
      "metadata": {
        "id": "fxMSUf9nadX1"
      },
      "execution_count": null,
      "outputs": []
    }
  ]
}