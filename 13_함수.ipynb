{
  "nbformat": 4,
  "nbformat_minor": 0,
  "metadata": {
    "colab": {
      "provenance": [],
      "authorship_tag": "ABX9TyMUyAdxtNPNt67GbYnG32J1",
      "include_colab_link": true
    },
    "kernelspec": {
      "name": "python3",
      "display_name": "Python 3"
    },
    "language_info": {
      "name": "python"
    }
  },
  "cells": [
    {
      "cell_type": "markdown",
      "metadata": {
        "id": "view-in-github",
        "colab_type": "text"
      },
      "source": [
        "<a href=\"https://colab.research.google.com/github/com0040/python-and-data-anlysis-basic/blob/main/13_%ED%95%A8%EC%88%98.ipynb\" target=\"_parent\"><img src=\"https://colab.research.google.com/assets/colab-badge.svg\" alt=\"Open In Colab\"/></a>"
      ]
    },
    {
      "cell_type": "markdown",
      "source": [
        "어떤 일을 수행한 다음에 그 결과를 내어놓는 것."
      ],
      "metadata": {
        "id": "ikO7Mben533r"
      }
    },
    {
      "cell_type": "markdown",
      "source": [
        "* 함수\n",
        "```\n",
        "def 함수명(매개변수):\n",
        "    <수행할 문장 1>\n",
        "    <수행할 문장 2>\n",
        "```\n",
        "```\n",
        "def 함수명(매개변수):\n",
        "    <수행할 문장 1>\n",
        "    ...\n",
        "    return 결과값\n",
        "```"
      ],
      "metadata": {
        "id": "XFi9OB9X57zx"
      }
    },
    {
      "cell_type": "markdown",
      "source": [
        "* 입력값이 없는 함수"
      ],
      "metadata": {
        "id": "b1GYDbn66Sbi"
      }
    },
    {
      "cell_type": "code",
      "execution_count": 1,
      "metadata": {
        "colab": {
          "base_uri": "https://localhost:8080/",
          "height": 35
        },
        "id": "F0MoTzzV3rJ-",
        "outputId": "915c7811-35e8-43c9-aec5-bc16a83091be"
      },
      "outputs": [
        {
          "output_type": "execute_result",
          "data": {
            "text/plain": [
              "'Hi'"
            ],
            "application/vnd.google.colaboratory.intrinsic+json": {
              "type": "string"
            }
          },
          "metadata": {},
          "execution_count": 1
        }
      ],
      "source": [
        "def say():\n",
        "    return 'Hi'\n",
        "\n",
        "say()"
      ]
    },
    {
      "cell_type": "markdown",
      "source": [
        "* 반환 값이 없는 함수."
      ],
      "metadata": {
        "id": "sb6c8Y1c6lN0"
      }
    },
    {
      "cell_type": "code",
      "source": [
        "def add(a,b):\n",
        "    print('%d, %d의 합은 %d 입니다.' %(a,b,a+b))\n",
        "\n",
        "add(1,3)"
      ],
      "metadata": {
        "colab": {
          "base_uri": "https://localhost:8080/"
        },
        "id": "Hs6LrGg96s5X",
        "outputId": "531a8e4c-fc48-4e91-f7b4-ebb92ef40285"
      },
      "execution_count": 2,
      "outputs": [
        {
          "output_type": "stream",
          "name": "stdout",
          "text": [
            "1, 3의 합은 4 입니다.\n"
          ]
        }
      ]
    },
    {
      "cell_type": "markdown",
      "source": [
        "* 입력 값도 반환 값도 없는 함수."
      ],
      "metadata": {
        "id": "Ker8L9Yr7Fxa"
      }
    },
    {
      "cell_type": "code",
      "source": [
        "def say():\n",
        "    print('Hi')\n",
        "\n",
        "say()"
      ],
      "metadata": {
        "colab": {
          "base_uri": "https://localhost:8080/"
        },
        "id": "d8vXIg-V67pW",
        "outputId": "1399dc7d-3959-4c5d-d491-b7ee2486eeee"
      },
      "execution_count": 3,
      "outputs": [
        {
          "output_type": "stream",
          "name": "stdout",
          "text": [
            "Hi\n"
          ]
        }
      ]
    },
    {
      "cell_type": "markdown",
      "source": [
        "* 입력 값이 몇 개가 될지 모를 떄.\n",
        "```\n",
        "def 함수이름(*매개변수):\n",
        "    <수행할 문장>\n",
        "```\n",
        "```\n",
        "def 함수이름(매개변수1, *매개변수):\n",
        "    <수행할 문장>\n",
        "```"
      ],
      "metadata": {
        "id": "DL3HTzDV7KZD"
      }
    },
    {
      "cell_type": "markdown",
      "source": [
        "* 입력 값을 딕셔너리로 받을 때.\n",
        "```\n",
        "def 함수이름(**.매개변수):\n",
        "    <수행할 문장>\n",
        "```"
      ],
      "metadata": {
        "id": "sLmOOfM47pTe"
      }
    },
    {
      "cell_type": "code",
      "source": [
        "def print_kwarngs(**a):\n",
        "    print(a)\n",
        "\n",
        "print_kwarngs(a=1)\n",
        "\n",
        "print_kwarngs(name='foo', age=3)"
      ],
      "metadata": {
        "colab": {
          "base_uri": "https://localhost:8080/"
        },
        "id": "mO8OOQvI7DGd",
        "outputId": "b67a84df-3b3e-40ff-d51c-3febade44157"
      },
      "execution_count": 6,
      "outputs": [
        {
          "output_type": "stream",
          "name": "stdout",
          "text": [
            "{'a': 1}\n",
            "{'name': 'foo', 'age': 3}\n"
          ]
        }
      ]
    },
    {
      "cell_type": "markdown",
      "source": [
        "* 특별한 상황일 때 함수를 빠져나가고 싶다면."
      ],
      "metadata": {
        "id": "NY4YT8Lh89Mq"
      }
    },
    {
      "cell_type": "code",
      "source": [
        "def say_nick(nick):\n",
        "    if nick == '바보':\n",
        "        return\n",
        "    print('나의 별명은 {} 입니다.'.format(nick))\n",
        "\n",
        "say_nick('천재')\n",
        "say_nick('바보')"
      ],
      "metadata": {
        "colab": {
          "base_uri": "https://localhost:8080/"
        },
        "id": "7i21zjM88F7z",
        "outputId": "a3016667-0fe4-418e-fd22-93855a70112b"
      },
      "execution_count": 7,
      "outputs": [
        {
          "output_type": "stream",
          "name": "stdout",
          "text": [
            "나의 별명은 천재 입니다.\n"
          ]
        }
      ]
    },
    {
      "cell_type": "markdown",
      "source": [
        "* 기본값 설정."
      ],
      "metadata": {
        "id": "JFxZo9DO9eM8"
      }
    },
    {
      "cell_type": "code",
      "source": [
        "def say_myself(name, old, man = True):\n",
        "    print('나의 이름은 {} 입니다.'.format(name))\n",
        "    print('나이는 {} 입니다.'.format(old))\n",
        "    if man == True:\n",
        "        print('남자입니다.')\n",
        "    else:\n",
        "        print('여자입니다.')\n",
        "\n",
        "say_myself('이창재',28)"
      ],
      "metadata": {
        "colab": {
          "base_uri": "https://localhost:8080/"
        },
        "id": "dGKMeuTp9bEM",
        "outputId": "aa42eb0f-8184-47af-c4f5-2d852c75973c"
      },
      "execution_count": 9,
      "outputs": [
        {
          "output_type": "stream",
          "name": "stdout",
          "text": [
            "나의 이름은 이창재 입니다.\n",
            "나이는 28 입니다.\n",
            "남자입니다.\n"
          ]
        }
      ]
    },
    {
      "cell_type": "markdown",
      "source": [
        "* 함수 안에서 사용되는 변수는 함수 안에서만 사용이 된다."
      ],
      "metadata": {
        "id": "78d5b5bn-II6"
      }
    },
    {
      "cell_type": "code",
      "source": [
        "a = 1 # 전역변수.\n",
        "\n",
        "def vartest(a):\n",
        "    a = a + 1 # 지역변수.\n",
        "\n",
        "vartest(a)\n",
        "a"
      ],
      "metadata": {
        "colab": {
          "base_uri": "https://localhost:8080/"
        },
        "id": "XHbKVW60-C1T",
        "outputId": "9d91b7bf-5d2e-43d9-b0e3-d14c6e8b0ac8"
      },
      "execution_count": 10,
      "outputs": [
        {
          "output_type": "execute_result",
          "data": {
            "text/plain": [
              "1"
            ]
          },
          "metadata": {},
          "execution_count": 10
        }
      ]
    },
    {
      "cell_type": "code",
      "source": [
        "a = 1 # 전역변수.\n",
        "\n",
        "def vartest():\n",
        "    global a\n",
        "    a = a + 1 # 지역변수.\n",
        "\n",
        "vartest()\n",
        "print(a)"
      ],
      "metadata": {
        "colab": {
          "base_uri": "https://localhost:8080/"
        },
        "id": "yDa4ojFw-adf",
        "outputId": "d448ce0a-bf1f-4217-a29d-8bcc83213e40"
      },
      "execution_count": 16,
      "outputs": [
        {
          "output_type": "stream",
          "name": "stdout",
          "text": [
            "2\n"
          ]
        }
      ]
    },
    {
      "cell_type": "markdown",
      "source": [
        "* lambda\n",
        "```\n",
        "add = lambda a, b, a+b\n",
        "```"
      ],
      "metadata": {
        "id": "daWDZEx0-9O5"
      }
    },
    {
      "cell_type": "code",
      "source": [
        "'''\n",
        "피보나치 수열에서 위치에 해당하는 값을 반환해주는 함수를 완성해보세요. \n",
        "예) fibo함수에 5를 전달하면 5번째 피보나치 수열의 값을 반환하면 됩니다.\n",
        "\n",
        "피보나치 수열 : 0, 1, 1, 2, 3, 5, 8, 13, 21 ...\n",
        "\n",
        "def fibo(n):\n",
        "?   \n",
        "\n",
        "ex)\n",
        "fibo(5)\n",
        "3\n",
        "\n",
        "fibo(7)\n",
        "8\n",
        "'''\n",
        "def fibo(n):\n",
        "    if n == 1:\n",
        "        return 0\n",
        "    elif n== 2:\n",
        "        return 1\n",
        "    else:\n",
        "        return fibo(n-2) + fibo(n-1)\n",
        "        \n",
        "print(fibo(5))\n",
        "print(fibo(7))"
      ],
      "metadata": {
        "colab": {
          "base_uri": "https://localhost:8080/"
        },
        "id": "DLrAdGgD-gEC",
        "outputId": "097db53a-437d-4e5d-d85a-f8b232585e5c"
      },
      "execution_count": 18,
      "outputs": [
        {
          "output_type": "stream",
          "name": "stdout",
          "text": [
            "3\n",
            "8\n"
          ]
        }
      ]
    },
    {
      "cell_type": "code",
      "source": [],
      "metadata": {
        "id": "nXnterXA_DsR"
      },
      "execution_count": null,
      "outputs": []
    }
  ]
}