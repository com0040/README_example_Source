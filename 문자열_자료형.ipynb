{
  "nbformat": 4,
  "nbformat_minor": 0,
  "metadata": {
    "colab": {
      "provenance": [],
      "collapsed_sections": [],
      "authorship_tag": "ABX9TyM5UFL9VNLGSS95TT7RhRsP",
      "include_colab_link": true
    },
    "kernelspec": {
      "name": "python3",
      "display_name": "Python 3"
    },
    "language_info": {
      "name": "python"
    }
  },
  "cells": [
    {
      "cell_type": "markdown",
      "metadata": {
        "id": "view-in-github",
        "colab_type": "text"
      },
      "source": [
        "<a href=\"https://colab.research.google.com/github/com0040/README_example_Source/blob/main/%EB%AC%B8%EC%9E%90%EC%97%B4_%EC%9E%90%EB%A3%8C%ED%98%95.ipynb\" target=\"_parent\"><img src=\"https://colab.research.google.com/assets/colab-badge.svg\" alt=\"Open In Colab\"/></a>"
      ]
    },
    {
      "cell_type": "code",
      "execution_count": 1,
      "metadata": {
        "colab": {
          "base_uri": "https://localhost:8080/"
        },
        "id": "RgWBu-JaCnbv",
        "outputId": "ebc20575-86c9-486e-c7fb-49a23602ad1a"
      },
      "outputs": [
        {
          "output_type": "stream",
          "name": "stdout",
          "text": [
            "Hello World\n"
          ]
        }
      ],
      "source": [
        "text = 'Hello World'\n",
        "text = \"Hello World\"\n",
        "text = '''Hello World'''\n",
        "text = \"\"\"Hello World\"\"\"\n",
        "\n",
        "print(text)"
      ]
    },
    {
      "cell_type": "code",
      "source": [
        "text = 'He said \"Hi\" to me'\n",
        "print(text)"
      ],
      "metadata": {
        "colab": {
          "base_uri": "https://localhost:8080/"
        },
        "id": "_dQjZGd7cIcg",
        "outputId": "6acc4be3-0f46-4022-9b64-e02878b44f05"
      },
      "execution_count": 2,
      "outputs": [
        {
          "output_type": "stream",
          "name": "stdout",
          "text": [
            "He said \"Hi\" to me\n"
          ]
        }
      ]
    },
    {
      "cell_type": "code",
      "source": [
        "text = 'He said \\\"Hi\\\" to me'\n",
        "print(text)"
      ],
      "metadata": {
        "colab": {
          "base_uri": "https://localhost:8080/"
        },
        "id": "S5izRhx_cXXJ",
        "outputId": "a5513503-36ba-40a0-ea2b-661fbe9deba3"
      },
      "execution_count": 3,
      "outputs": [
        {
          "output_type": "stream",
          "name": "stdout",
          "text": [
            "He said \"Hi\" to me\n"
          ]
        }
      ]
    },
    {
      "cell_type": "code",
      "source": [
        "text = 'Life is too short\\nYpu need Python.'\n",
        "print(text)"
      ],
      "metadata": {
        "colab": {
          "base_uri": "https://localhost:8080/"
        },
        "id": "kOlxmaTcctIB",
        "outputId": "f5024942-5e0c-4f0b-ca52-3ce127fd59b6"
      },
      "execution_count": 5,
      "outputs": [
        {
          "output_type": "stream",
          "name": "stdout",
          "text": [
            "Life is too short\n",
            "Ypu need Python.\n"
          ]
        }
      ]
    },
    {
      "cell_type": "code",
      "source": [
        "text = \"\"\"Life is too short\n",
        "Ypu need Python.\n",
        "\"\"\"\n",
        "print(text)"
      ],
      "metadata": {
        "colab": {
          "base_uri": "https://localhost:8080/"
        },
        "id": "YnSqzB7qdDbH",
        "outputId": "430bbed4-acc7-4cf3-d5aa-98bf7eb067c6"
      },
      "execution_count": 6,
      "outputs": [
        {
          "output_type": "stream",
          "name": "stdout",
          "text": [
            "Life is too short\n",
            "Ypu need Python.\n",
            "\n"
          ]
        }
      ]
    },
    {
      "cell_type": "code",
      "source": [
        "## 이스케이프 코드드\n",
        "# \\n --> 줄바꿈\n",
        "# \\t --> 탭\n",
        "# \\\\ --> \\\n",
        "# \\' --> 작은 따옴표 사용\n",
        "# \\\" --> 큰 따움표 사용"
      ],
      "metadata": {
        "id": "d_nZPQyidTRE"
      },
      "execution_count": null,
      "outputs": []
    },
    {
      "cell_type": "code",
      "source": [
        "a = 'Python'\n",
        "b = ' is too fun!'\n",
        "print(a + b) # 뺄셈은 불가능하다."
      ],
      "metadata": {
        "colab": {
          "base_uri": "https://localhost:8080/"
        },
        "id": "4X4u8xq-dmFI",
        "outputId": "7182cecc-b628-451d-bb54-4dbf6e656d20"
      },
      "execution_count": 8,
      "outputs": [
        {
          "output_type": "stream",
          "name": "stdout",
          "text": [
            "Python is too fun!\n"
          ]
        }
      ]
    },
    {
      "cell_type": "code",
      "source": [
        "a = 'Python'\n",
        "print(a*3)"
      ],
      "metadata": {
        "colab": {
          "base_uri": "https://localhost:8080/"
        },
        "id": "MqUSG4HZdxwZ",
        "outputId": "844f6880-998b-4e95-843e-b64dbce15e00"
      },
      "execution_count": 9,
      "outputs": [
        {
          "output_type": "stream",
          "name": "stdout",
          "text": [
            "PythonPythonPython\n"
          ]
        }
      ]
    },
    {
      "cell_type": "code",
      "source": [
        "a = 'Python'\n",
        "print(len(a))"
      ],
      "metadata": {
        "colab": {
          "base_uri": "https://localhost:8080/"
        },
        "id": "9Aa-c7PqeCPw",
        "outputId": "dad520aa-3251-4c91-f552-3030d2b9ddac"
      },
      "execution_count": 10,
      "outputs": [
        {
          "output_type": "stream",
          "name": "stdout",
          "text": [
            "6\n"
          ]
        }
      ]
    },
    {
      "cell_type": "code",
      "source": [
        "a = 'Python'\n",
        "print(a[0])\n",
        "print(a[-1]) # -1는 맨뒤에서부터 센다 (-0은 없으므로로)"
      ],
      "metadata": {
        "colab": {
          "base_uri": "https://localhost:8080/"
        },
        "id": "sfsec5HDeGuA",
        "outputId": "90515be7-b910-4918-91f9-bdc813a5679e"
      },
      "execution_count": 11,
      "outputs": [
        {
          "output_type": "stream",
          "name": "stdout",
          "text": [
            "P\n",
            "n\n"
          ]
        }
      ]
    },
    {
      "cell_type": "code",
      "source": [
        "a = 'Python is too fun!'\n",
        "print(a[2:9])\n",
        "print(a[:9])\n",
        "print(a[3:])"
      ],
      "metadata": {
        "colab": {
          "base_uri": "https://localhost:8080/"
        },
        "id": "u1El0uikeQsq",
        "outputId": "f7716f06-c94f-4cb3-d179-7b791167caf5"
      },
      "execution_count": 12,
      "outputs": [
        {
          "output_type": "stream",
          "name": "stdout",
          "text": [
            "thon is\n",
            "Python is\n",
            "hon is too fun!\n"
          ]
        }
      ]
    },
    {
      "cell_type": "code",
      "source": [
        "text = \"I eat {} apples\".format(3)\n",
        "print(text)"
      ],
      "metadata": {
        "colab": {
          "base_uri": "https://localhost:8080/"
        },
        "id": "tZHzkY48elP2",
        "outputId": "f5964d41-2300-47aa-9b79-e7a6ad92f09a"
      },
      "execution_count": 14,
      "outputs": [
        {
          "output_type": "stream",
          "name": "stdout",
          "text": [
            "I eat 3 apples\n"
          ]
        }
      ]
    },
    {
      "cell_type": "code",
      "source": [
        "text = \"I eat {} apples and {} oranges.\".format(3,5)\n",
        "print(text)"
      ],
      "metadata": {
        "colab": {
          "base_uri": "https://localhost:8080/"
        },
        "id": "SvstPEmjeyqZ",
        "outputId": "147ef54b-b1d2-4d94-8b38-f95880e213f1"
      },
      "execution_count": 15,
      "outputs": [
        {
          "output_type": "stream",
          "name": "stdout",
          "text": [
            "I eat 3 apples and 5 oranges.\n"
          ]
        }
      ]
    },
    {
      "cell_type": "code",
      "source": [
        "text = \"I eat {0} apples and {0} oranges.\".format(3,5) # {0} .forma(3,5)에서 0번째 인덱스를 가져온다다\n",
        "print(text)"
      ],
      "metadata": {
        "colab": {
          "base_uri": "https://localhost:8080/"
        },
        "id": "1qywlEyyfA9x",
        "outputId": "ece4b273-5f92-4444-c9e3-36db5021a4ee"
      },
      "execution_count": 16,
      "outputs": [
        {
          "output_type": "stream",
          "name": "stdout",
          "text": [
            "I eat 3 apples and 3 oranges.\n"
          ]
        }
      ]
    },
    {
      "cell_type": "code",
      "source": [
        "text = \"\\\"{:>10}\\\"\".format(\"Hi\") # : 표현 약속, > 오른쪽 정렬, 10 공간 할당 갯갯수\n",
        "print(text)"
      ],
      "metadata": {
        "colab": {
          "base_uri": "https://localhost:8080/"
        },
        "id": "f7RxSSCFfFow",
        "outputId": "55b71e1e-8488-4753-c1b5-28596198f972"
      },
      "execution_count": 20,
      "outputs": [
        {
          "output_type": "stream",
          "name": "stdout",
          "text": [
            "\"        Hi\"\n"
          ]
        }
      ]
    },
    {
      "cell_type": "code",
      "source": [
        "text = \"\\\"{:^10}\\\"\".format(\"Hi\") # : 표현 약속, ^ 가운데데 정렬, 10 공간 할당 갯갯수\n",
        "print(text)"
      ],
      "metadata": {
        "colab": {
          "base_uri": "https://localhost:8080/"
        },
        "id": "tw5-ldADfXsQ",
        "outputId": "dd5c9f5d-5e2d-4d9f-fa8e-33956f49bac9"
      },
      "execution_count": 21,
      "outputs": [
        {
          "output_type": "stream",
          "name": "stdout",
          "text": [
            "\"    Hi    \"\n"
          ]
        }
      ]
    },
    {
      "cell_type": "code",
      "source": [
        "text = \"\\\"{:=^10}\\\"\".format(\"Hi\") # : 표현 약속, = 빈공간 채울 기호 ,^ 가운데 정렬, 10 공간 할당 갯갯수\n",
        "print(text)"
      ],
      "metadata": {
        "colab": {
          "base_uri": "https://localhost:8080/"
        },
        "id": "Q70ZZqfxf8W3",
        "outputId": "cbf0933e-252c-4b0c-f7a1-d3d247a56b93"
      },
      "execution_count": 22,
      "outputs": [
        {
          "output_type": "stream",
          "name": "stdout",
          "text": [
            "\"====Hi====\"\n"
          ]
        }
      ]
    },
    {
      "cell_type": "code",
      "source": [
        "text = \"{:.2f}\".format(3.141592) # {:.2f} 포멧속 숫자를 2자리로 표현 \n",
        "print(text)"
      ],
      "metadata": {
        "colab": {
          "base_uri": "https://localhost:8080/"
        },
        "id": "Z0wQxIhlgFzP",
        "outputId": "f34e4d2b-fcf2-45d1-9599-a5c78200d421"
      },
      "execution_count": 24,
      "outputs": [
        {
          "output_type": "stream",
          "name": "stdout",
          "text": [
            "3.14\n"
          ]
        }
      ]
    },
    {
      "cell_type": "code",
      "source": [
        "text = \"Python:is:too:fun!\"\n",
        "print(text.count('o')) # .count --> 해당 문자 포함 갯수"
      ],
      "metadata": {
        "colab": {
          "base_uri": "https://localhost:8080/"
        },
        "id": "vAkU226IgZ4a",
        "outputId": "fcd75b74-ee4d-41ad-c087-904dcda782c2"
      },
      "execution_count": 26,
      "outputs": [
        {
          "output_type": "stream",
          "name": "stdout",
          "text": [
            "3\n"
          ]
        }
      ]
    },
    {
      "cell_type": "code",
      "source": [
        "text = \"Python is too fun!\"\n",
        "\n",
        "print(text.find(\"o\")) # .find 첫번째 해당 문자의 인덱스를 찾아줌\n",
        "print(text.find(\"z\")) # 없는 문자일 경우 -1 반환"
      ],
      "metadata": {
        "colab": {
          "base_uri": "https://localhost:8080/"
        },
        "id": "oZ1phHUngjuQ",
        "outputId": "be48fda8-d3d4-4fe8-9775-e2b751766a1a"
      },
      "execution_count": 27,
      "outputs": [
        {
          "output_type": "stream",
          "name": "stdout",
          "text": [
            "4\n",
            "-1\n"
          ]
        }
      ]
    },
    {
      "cell_type": "code",
      "source": [
        "text = \",\".join(\"abcde\") # .join() 사이에 \",\"를 하나하나 넣겠다\n",
        "print(text)"
      ],
      "metadata": {
        "colab": {
          "base_uri": "https://localhost:8080/"
        },
        "id": "KVAqP0ZhhFGv",
        "outputId": "15e19e99-b199-46ea-adb7-26093717d285"
      },
      "execution_count": 28,
      "outputs": [
        {
          "output_type": "stream",
          "name": "stdout",
          "text": [
            "a,b,c,d,e\n"
          ]
        }
      ]
    },
    {
      "cell_type": "code",
      "source": [
        "text = \"Python is too fun!\"\n",
        "print(text.upper()) # 대문자로 만들기"
      ],
      "metadata": {
        "colab": {
          "base_uri": "https://localhost:8080/"
        },
        "id": "f4_5A8j9heEB",
        "outputId": "91b7d132-ee97-4196-8b51-8d22f61cfa24"
      },
      "execution_count": 29,
      "outputs": [
        {
          "output_type": "stream",
          "name": "stdout",
          "text": [
            "PYTHON IS TOO FUN!\n"
          ]
        }
      ]
    },
    {
      "cell_type": "code",
      "source": [
        "text = \"Python is too fun!\"\n",
        "print(text.lower()) # 소문자로 만들기"
      ],
      "metadata": {
        "colab": {
          "base_uri": "https://localhost:8080/"
        },
        "id": "BfobH2U5hyKy",
        "outputId": "617c1625-885a-4139-910d-15a5a99289fc"
      },
      "execution_count": 30,
      "outputs": [
        {
          "output_type": "stream",
          "name": "stdout",
          "text": [
            "python is too fun!\n"
          ]
        }
      ]
    },
    {
      "cell_type": "code",
      "source": [
        "text = \"    \"\"\\\"Hello     \\\"\"\"\"\n",
        "print(text.lstrip()) # 왼쪽 여백 제거"
      ],
      "metadata": {
        "colab": {
          "base_uri": "https://localhost:8080/"
        },
        "id": "ZMIdocxuh78Q",
        "outputId": "93f4fce5-643c-4151-9fff-207c1dcd0520"
      },
      "execution_count": 44,
      "outputs": [
        {
          "output_type": "stream",
          "name": "stdout",
          "text": [
            "\"Hello     \"\n"
          ]
        }
      ]
    },
    {
      "cell_type": "code",
      "source": [
        "text = \"\\\"     Hello\\\"     \"\n",
        "print(text.rstrip()) # 오른쪽 여백 제거"
      ],
      "metadata": {
        "colab": {
          "base_uri": "https://localhost:8080/"
        },
        "id": "S_8PsyziiE-h",
        "outputId": "7ef806f7-c3f5-4d9c-ca36-88276f69ccc8"
      },
      "execution_count": 45,
      "outputs": [
        {
          "output_type": "stream",
          "name": "stdout",
          "text": [
            "\"     Hello\"\n"
          ]
        }
      ]
    },
    {
      "cell_type": "code",
      "source": [
        "text = \"     \\\"Hello\\\"     \"\n",
        "print(text.strip()) # 양쪽쪽 여백 제거"
      ],
      "metadata": {
        "colab": {
          "base_uri": "https://localhost:8080/"
        },
        "id": "pE9TCl-kihSH",
        "outputId": "6c56249f-f90d-4f5e-8f63-71975f30729f"
      },
      "execution_count": 47,
      "outputs": [
        {
          "output_type": "stream",
          "name": "stdout",
          "text": [
            "\"Hello\"\n"
          ]
        }
      ]
    },
    {
      "cell_type": "code",
      "source": [
        "text = \"Python is too fun!\"\n",
        "print(text.replace(\"Python\",\"Java\")) # 해당 문자열 대체하기"
      ],
      "metadata": {
        "colab": {
          "base_uri": "https://localhost:8080/"
        },
        "id": "Ct7BNyQRjLGm",
        "outputId": "1233c4cf-f993-408d-f34e-134c99327921"
      },
      "execution_count": 48,
      "outputs": [
        {
          "output_type": "stream",
          "name": "stdout",
          "text": [
            "Java is too fun!\n"
          ]
        }
      ]
    },
    {
      "cell_type": "code",
      "source": [
        "text = \"Python is too fun!\"\n",
        "print(text.split()) # 빈공간을 기준으로 자르기"
      ],
      "metadata": {
        "colab": {
          "base_uri": "https://localhost:8080/"
        },
        "id": "mk_FsCzUjYFO",
        "outputId": "07edb577-615d-46ca-d05e-0cc1590d8f33"
      },
      "execution_count": 49,
      "outputs": [
        {
          "output_type": "stream",
          "name": "stdout",
          "text": [
            "['Python', 'is', 'too', 'fun!']\n"
          ]
        }
      ]
    },
    {
      "cell_type": "code",
      "source": [
        "text = \"Python:is:too:fun!\"\n",
        "print(text.split(':')) # : 를 기준으로 자르기"
      ],
      "metadata": {
        "colab": {
          "base_uri": "https://localhost:8080/"
        },
        "id": "Wv88hpvBjlPn",
        "outputId": "f2631c41-1fbf-4d9d-975e-093394406c40"
      },
      "execution_count": 50,
      "outputs": [
        {
          "output_type": "stream",
          "name": "stdout",
          "text": [
            "['Python', 'is', 'too', 'fun!']\n"
          ]
        }
      ]
    },
    {
      "cell_type": "code",
      "source": [
        "text = \"Python is too fun!\"\n",
        "text.startswith(\"Python\") # 시작하는 문자열 확인"
      ],
      "metadata": {
        "colab": {
          "base_uri": "https://localhost:8080/"
        },
        "id": "DNa78D-pj05I",
        "outputId": "eac5faff-30ba-40bd-b7d3-a210d18f8d57"
      },
      "execution_count": 51,
      "outputs": [
        {
          "output_type": "execute_result",
          "data": {
            "text/plain": [
              "True"
            ]
          },
          "metadata": {},
          "execution_count": 51
        }
      ]
    },
    {
      "cell_type": "code",
      "source": [
        "text = \"Python is too fun!\"\n",
        "text.endswith(\"Python\") # 끝나는 문자열 확인"
      ],
      "metadata": {
        "colab": {
          "base_uri": "https://localhost:8080/"
        },
        "id": "rJG2aqwIkGUJ",
        "outputId": "59e52b88-4223-46e7-b713-d25063768bfe"
      },
      "execution_count": 52,
      "outputs": [
        {
          "output_type": "execute_result",
          "data": {
            "text/plain": [
              "False"
            ]
          },
          "metadata": {},
          "execution_count": 52
        }
      ]
    },
    {
      "cell_type": "code",
      "source": [
        "text = 'Hello'\n",
        "print(text.isalpha()) # 문자로만 구성되있는지 확인"
      ],
      "metadata": {
        "colab": {
          "base_uri": "https://localhost:8080/"
        },
        "id": "ZSTimcGMk1Sp",
        "outputId": "82665236-40ef-4203-a368-b6e777bf1f4f"
      },
      "execution_count": 53,
      "outputs": [
        {
          "output_type": "stream",
          "name": "stdout",
          "text": [
            "True\n"
          ]
        }
      ]
    },
    {
      "cell_type": "code",
      "source": [
        "text = '안녕하세요'\n",
        "print(text.isalpha()) # 한글도가능"
      ],
      "metadata": {
        "colab": {
          "base_uri": "https://localhost:8080/"
        },
        "id": "mAJaqpqSk-zY",
        "outputId": "d1e9faab-8975-411e-d7a7-787d7b5dcf7d"
      },
      "execution_count": 54,
      "outputs": [
        {
          "output_type": "stream",
          "name": "stdout",
          "text": [
            "True\n"
          ]
        }
      ]
    },
    {
      "cell_type": "code",
      "source": [
        "text = 'Hello World!'\n",
        "print(text.isalpha()) # !나나 공백은 알파벳벳이 아니다"
      ],
      "metadata": {
        "colab": {
          "base_uri": "https://localhost:8080/"
        },
        "id": "73hLrtb2lH2e",
        "outputId": "98ab06bf-c23b-4117-e28f-be8d2c370820"
      },
      "execution_count": 57,
      "outputs": [
        {
          "output_type": "stream",
          "name": "stdout",
          "text": [
            "False\n"
          ]
        }
      ]
    },
    {
      "cell_type": "code",
      "source": [
        "text = 'Hello300'\n",
        "print(text.isalpha()) # 숫자도 알파벳이 아니다"
      ],
      "metadata": {
        "colab": {
          "base_uri": "https://localhost:8080/"
        },
        "id": "TBzgwtT6lS-V",
        "outputId": "f03821c5-f8bd-4c04-8bb6-a4c18d94423e"
      },
      "execution_count": 56,
      "outputs": [
        {
          "output_type": "stream",
          "name": "stdout",
          "text": [
            "False\n"
          ]
        }
      ]
    },
    {
      "cell_type": "code",
      "source": [
        "text = '300'\n",
        "print(text.isdigit()) # .isdigit --> 숫자로만 구성됬는지 확인"
      ],
      "metadata": {
        "colab": {
          "base_uri": "https://localhost:8080/"
        },
        "id": "2JDlEjndlcR5",
        "outputId": "9b4b5246-5894-497c-d0cb-ff40baa7b60a"
      },
      "execution_count": 58,
      "outputs": [
        {
          "output_type": "stream",
          "name": "stdout",
          "text": [
            "True\n"
          ]
        }
      ]
    },
    {
      "cell_type": "code",
      "source": [
        "text = 'hello300'\n",
        "print(text.isalnum()) # .isalnum --> 알파벳이나 숫자인가(한글가능)"
      ],
      "metadata": {
        "colab": {
          "base_uri": "https://localhost:8080/"
        },
        "id": "tgztwBC_l5Ek",
        "outputId": "3ef9fc7c-989e-4197-d9b4-350a4506a6d3"
      },
      "execution_count": 62,
      "outputs": [
        {
          "output_type": "stream",
          "name": "stdout",
          "text": [
            "True\n"
          ]
        }
      ]
    },
    {
      "cell_type": "code",
      "source": [
        "text = '      '\n",
        "print(text.isspace()) # .isspace --> 공백으로만 구성됬는지 확인"
      ],
      "metadata": {
        "colab": {
          "base_uri": "https://localhost:8080/"
        },
        "id": "hq4eOU4omFgu",
        "outputId": "832f56f7-7b37-4496-a66e-63edde76e6e3"
      },
      "execution_count": 64,
      "outputs": [
        {
          "output_type": "stream",
          "name": "stdout",
          "text": [
            "True\n"
          ]
        }
      ]
    },
    {
      "cell_type": "code",
      "source": [],
      "metadata": {
        "id": "THFhAzVvme0L"
      },
      "execution_count": null,
      "outputs": []
    }
  ]
}