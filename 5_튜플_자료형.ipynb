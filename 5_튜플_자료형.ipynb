{
  "nbformat": 4,
  "nbformat_minor": 0,
  "metadata": {
    "colab": {
      "provenance": [],
      "authorship_tag": "ABX9TyOyFOA967K8vSuxVCen8aWv",
      "include_colab_link": true
    },
    "kernelspec": {
      "name": "python3",
      "display_name": "Python 3"
    },
    "language_info": {
      "name": "python"
    }
  },
  "cells": [
    {
      "cell_type": "markdown",
      "metadata": {
        "id": "view-in-github",
        "colab_type": "text"
      },
      "source": [
        "<a href=\"https://colab.research.google.com/github/com0040/python-and-data-anlysis-basic/blob/main/5_%ED%8A%9C%ED%94%8C_%EC%9E%90%EB%A3%8C%ED%98%95.ipynb\" target=\"_parent\"><img src=\"https://colab.research.google.com/assets/colab-badge.svg\" alt=\"Open In Colab\"/></a>"
      ]
    },
    {
      "cell_type": "markdown",
      "source": [
        "* 튜플 자료형"
      ],
      "metadata": {
        "id": "OKyEV0iNdipm"
      }
    },
    {
      "cell_type": "code",
      "execution_count": null,
      "metadata": {
        "id": "xRg-9YWfddn_"
      },
      "outputs": [],
      "source": [
        "tuple1 = (1,2,3)\n",
        "tuple2 = (1,2,3,[4,5])"
      ]
    },
    {
      "cell_type": "markdown",
      "source": [
        "* 튜플 값 변경하기"
      ],
      "metadata": {
        "id": "mYh9-dEpdvJ4"
      }
    },
    {
      "cell_type": "code",
      "source": [
        "a = (1,3,5,4,2)\n",
        "a[2] = 10\n",
        "print(a) # 에러발생"
      ],
      "metadata": {
        "colab": {
          "base_uri": "https://localhost:8080/",
          "height": 206
        },
        "id": "zD4ofwNQdzFo",
        "outputId": "ef01327e-06ab-4853-d575-26bec2354f02"
      },
      "execution_count": 1,
      "outputs": [
        {
          "output_type": "error",
          "ename": "TypeError",
          "evalue": "ignored",
          "traceback": [
            "\u001b[0;31m---------------------------------------------------------------------------\u001b[0m",
            "\u001b[0;31mTypeError\u001b[0m                                 Traceback (most recent call last)",
            "\u001b[0;32m<ipython-input-1-40b542f36134>\u001b[0m in \u001b[0;36m<module>\u001b[0;34m\u001b[0m\n\u001b[1;32m      1\u001b[0m \u001b[0ma\u001b[0m \u001b[0;34m=\u001b[0m \u001b[0;34m(\u001b[0m\u001b[0;36m1\u001b[0m\u001b[0;34m,\u001b[0m\u001b[0;36m3\u001b[0m\u001b[0;34m,\u001b[0m\u001b[0;36m5\u001b[0m\u001b[0;34m,\u001b[0m\u001b[0;36m4\u001b[0m\u001b[0;34m,\u001b[0m\u001b[0;36m2\u001b[0m\u001b[0;34m)\u001b[0m\u001b[0;34m\u001b[0m\u001b[0;34m\u001b[0m\u001b[0m\n\u001b[0;32m----> 2\u001b[0;31m \u001b[0ma\u001b[0m\u001b[0;34m[\u001b[0m\u001b[0;36m2\u001b[0m\u001b[0;34m]\u001b[0m \u001b[0;34m=\u001b[0m \u001b[0;36m10\u001b[0m\u001b[0;34m\u001b[0m\u001b[0;34m\u001b[0m\u001b[0m\n\u001b[0m\u001b[1;32m      3\u001b[0m \u001b[0mprint\u001b[0m\u001b[0;34m(\u001b[0m\u001b[0ma\u001b[0m\u001b[0;34m)\u001b[0m\u001b[0;34m\u001b[0m\u001b[0;34m\u001b[0m\u001b[0m\n",
            "\u001b[0;31mTypeError\u001b[0m: 'tuple' object does not support item assignment"
          ]
        }
      ]
    },
    {
      "cell_type": "markdown",
      "source": [
        "* 튜플 값 삭제하기기"
      ],
      "metadata": {
        "id": "nNe4UemGeC5h"
      }
    },
    {
      "cell_type": "code",
      "source": [
        "a = (1,3,5,4,2)\n",
        "del a[2]\n",
        "print(a) # 에러발생"
      ],
      "metadata": {
        "id": "bmnMzIZCd91w"
      },
      "execution_count": null,
      "outputs": []
    },
    {
      "cell_type": "markdown",
      "source": [
        "* 튜플 자료형\n",
        "\n",
        "1. 튜플은 한번 정하면 절대 수정하거나 삭제할 수가 없다.\n",
        "2. 하나의 변수에 여러 개의 값을 할당하면, 자동으로 튜플로 묶어 저장해준다.\n",
        "3. 기본적으로는 하나의 값은 취급하지 않는다."
      ],
      "metadata": {
        "id": "W-tBVkkFeL75"
      }
    },
    {
      "cell_type": "markdown",
      "source": [
        "* 튜플 인덱싱(접근)"
      ],
      "metadata": {
        "id": "lmg-A_ayebzC"
      }
    },
    {
      "cell_type": "code",
      "source": [
        "tuple1 = (1,3,5,4,2)\n",
        "print(tuple1[0])\n",
        "print(tuple1[-1])"
      ],
      "metadata": {
        "colab": {
          "base_uri": "https://localhost:8080/"
        },
        "id": "7RaBidvMedlB",
        "outputId": "f6e2d8e5-c9c6-4e6c-e2b1-ae72afb2661b"
      },
      "execution_count": 2,
      "outputs": [
        {
          "output_type": "stream",
          "name": "stdout",
          "text": [
            "1\n",
            "2\n"
          ]
        }
      ]
    },
    {
      "cell_type": "markdown",
      "source": [
        "* 튜플 슬라이싱"
      ],
      "metadata": {
        "id": "jEJMdePyewPq"
      }
    },
    {
      "cell_type": "code",
      "source": [
        "tuple1 = (1,3,5,4,2,0,7)\n",
        "print(tuple1[2:5])\n",
        "print(tuple1[3:])\n",
        "print(tuple1[:5])"
      ],
      "metadata": {
        "colab": {
          "base_uri": "https://localhost:8080/"
        },
        "id": "gpGHxYDKeq5i",
        "outputId": "cd6e097a-3d73-45e7-e013-ec7fdee759df"
      },
      "execution_count": 3,
      "outputs": [
        {
          "output_type": "stream",
          "name": "stdout",
          "text": [
            "(5, 4, 2)\n",
            "(4, 2, 0, 7)\n",
            "(1, 3, 5, 4, 2)\n"
          ]
        }
      ]
    },
    {
      "cell_type": "markdown",
      "source": [
        "* 튜플 덧셈 "
      ],
      "metadata": {
        "id": "qts-tZz1fGoT"
      }
    },
    {
      "cell_type": "code",
      "source": [
        "a = (1,2,3)\n",
        "b = (4,5,6)\n",
        "print(a + b)"
      ],
      "metadata": {
        "colab": {
          "base_uri": "https://localhost:8080/"
        },
        "id": "IG998jZWfFSU",
        "outputId": "683fb2f1-8651-4971-ae51-2c83c78408b1"
      },
      "execution_count": 4,
      "outputs": [
        {
          "output_type": "stream",
          "name": "stdout",
          "text": [
            "(1, 2, 3, 4, 5, 6)\n"
          ]
        }
      ]
    },
    {
      "cell_type": "markdown",
      "source": [
        "* 튜플 곱셈 "
      ],
      "metadata": {
        "id": "K3ChmynZfRt6"
      }
    },
    {
      "cell_type": "code",
      "source": [
        "a = (1,2,3)\n",
        "print(a * 3)"
      ],
      "metadata": {
        "colab": {
          "base_uri": "https://localhost:8080/"
        },
        "id": "D_ScZf7vfOuA",
        "outputId": "4a8e94f9-9180-4b1b-b8bf-de04393c8d0f"
      },
      "execution_count": 5,
      "outputs": [
        {
          "output_type": "stream",
          "name": "stdout",
          "text": [
            "(1, 2, 3, 1, 2, 3, 1, 2, 3)\n"
          ]
        }
      ]
    },
    {
      "cell_type": "markdown",
      "source": [
        "* 튜플 길이 구하기 "
      ],
      "metadata": {
        "id": "KtynOPmFfYa1"
      }
    },
    {
      "cell_type": "code",
      "source": [
        "a = (1,2,3)\n",
        "print(len(a))"
      ],
      "metadata": {
        "colab": {
          "base_uri": "https://localhost:8080/"
        },
        "id": "R1TDxoPvfW2G",
        "outputId": "4e1abfdc-7f28-4e25-a770-cbab975b15a1"
      },
      "execution_count": 6,
      "outputs": [
        {
          "output_type": "stream",
          "name": "stdout",
          "text": [
            "3\n"
          ]
        }
      ]
    },
    {
      "cell_type": "markdown",
      "source": [
        "* 튜플을 리스트로 변환하기 "
      ],
      "metadata": {
        "id": "E2mEMP_FffTf"
      }
    },
    {
      "cell_type": "code",
      "source": [
        "a = (1,3,5,4,2)\n",
        "a = list(a)\n",
        "print(a)"
      ],
      "metadata": {
        "colab": {
          "base_uri": "https://localhost:8080/"
        },
        "id": "xj3Ho49DfeVI",
        "outputId": "a2281d33-f9a0-4293-f401-2cba1dbdb3f6"
      },
      "execution_count": 7,
      "outputs": [
        {
          "output_type": "stream",
          "name": "stdout",
          "text": [
            "[1, 3, 5, 4, 2]\n"
          ]
        }
      ]
    },
    {
      "cell_type": "markdown",
      "source": [
        "* 리스트를 튜플로 변환하기 "
      ],
      "metadata": {
        "id": "iM6CxKe7fqQq"
      }
    },
    {
      "cell_type": "code",
      "source": [
        "a = [1,3,5,4,2]\n",
        "a = tuple(a)\n",
        "print(a)"
      ],
      "metadata": {
        "colab": {
          "base_uri": "https://localhost:8080/"
        },
        "id": "-4gQ9G6GfpPg",
        "outputId": "7de41e42-802e-44c2-daaa-f6807c1ef4d1"
      },
      "execution_count": 8,
      "outputs": [
        {
          "output_type": "stream",
          "name": "stdout",
          "text": [
            "(1, 3, 5, 4, 2)\n"
          ]
        }
      ]
    },
    {
      "cell_type": "code",
      "source": [],
      "metadata": {
        "id": "JyLO4CSWfxns"
      },
      "execution_count": null,
      "outputs": []
    }
  ]
}